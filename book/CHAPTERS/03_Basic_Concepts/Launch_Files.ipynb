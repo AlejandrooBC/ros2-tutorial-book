{
 "cells": [
  {
   "cell_type": "markdown",
   "metadata": {},
   "source": [
    "# Launch Files"
   ]
  },
  {
   "cell_type": "markdown",
   "metadata": {},
   "source": [
    "Launch files are exactly what they seem to be, files that are used for the intiiation of a ROS2 program. They are a way for the user to describe the configuration of their system and run it in the way that it was described in the file. Some information that launch files include are:\n",
    "\n",
    "- What programs to run.\n",
    "\n",
    "- Where to run said programs.\n",
    "\n",
    "- What arguments to pass into said programs (to initialize parameters).\n",
    "\n",
    "- ROS-specific conventions that make it a deal easier to reuse system components with different configurations.\n",
    "\n",
    "Launch files also have the responsibility to monitor any process or program that has been launched. They report and, subsequently, react to any sudden changes that may arise during launch. They also have the ability to stop and trigger certain nodes at certain times. Launch files are usually written in Python, XML, or YAML, and you will become familiar with these programs later on."
   ]
  },
  {
   "cell_type": "markdown",
   "metadata": {},
   "source": [
    "# TurtleSim Launch File Example"
   ]
  },
  {
   "cell_type": "markdown",
   "metadata": {},
   "source": [
    "Below is an example of a launch file for TurtleSim:"
   ]
  },
  {
   "cell_type": "code",
   "execution_count": null,
   "metadata": {
    "vscode": {
     "languageId": "plaintext"
    }
   },
   "outputs": [],
   "source": [
    "from launch import LaunchDescription\n",
    "from launch_ros.actions import Node\n",
    "\n",
    "def generate_launch_description():\n",
    "    return LaunchDescription([\n",
    "        Node(\n",
    "            package='turtlesim',\n",
    "            namespace='turtlesim1',\n",
    "            executable='turtlesim_node',\n",
    "            name='sim'\n",
    "        ),\n",
    "        Node(\n",
    "            package='turtlesim',\n",
    "            namespace='turtlesim2',\n",
    "            executable='turtlesim_node',\n",
    "            name='sim'\n",
    "        ),\n",
    "        Node(\n",
    "            package='turtlesim',\n",
    "            executable='mimic',\n",
    "            name='mimic',\n",
    "            remappings=[\n",
    "                ('/input/pose', '/turtlesim1/turtle1/pose'),\n",
    "                ('/output/cmd_vel', '/turtlesim2/turtle1/cmd_vel'),\n",
    "            ]\n",
    "        )\n",
    "    ])"
   ]
  },
  {
   "cell_type": "markdown",
   "metadata": {},
   "source": [
    "This code can be broken up into different sections.\n",
    "\n",
    "- **Imports:** Pull in some predefined launch models for Python.\n",
    "\n",
    "- **Actions:** The first and second nodes in the **launch description** call for the launch of two TurtleSim windows. The third node calls for the launch for the TurtleSim remaps.\n",
    "\n",
    "Once this is all written, one would run this file in the command prompt and launch TurtleSim."
   ]
  }
 ],
 "metadata": {
  "language_info": {
   "name": "python"
  }
 },
 "nbformat": 4,
 "nbformat_minor": 2
}
