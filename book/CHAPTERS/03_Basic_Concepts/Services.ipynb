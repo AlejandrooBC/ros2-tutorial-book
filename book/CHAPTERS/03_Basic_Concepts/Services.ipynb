{
 "cells": [
  {
   "cell_type": "markdown",
   "metadata": {},
   "source": [
    "# Services"
   ]
  },
  {
   "cell_type": "markdown",
   "metadata": {},
   "source": [
    "In the topics portion, you saw one way that nodes can communicate, being through a publisher-subscriber model in which nodes can receive a constant stream of data and updates. Services offer a different method of communication through a call-response mode. Instead of getting constant data, services only provide data when it is called by a client.\n",
    "\n",
    "Nodes can contain **service clients and servers**. The client provides a **call** through a service, and the server then sends out a **response**. For each individual service, there can be multiple clients and only one server."
   ]
  },
  {
   "cell_type": "markdown",
   "metadata": {},
   "source": [
    "![ROS2 Program Service](../../MEDIA/Services_Diagram.gif)\n",
    "**ROS2 Service Example (Courtesy of ROS2 Documentation)**"
   ]
  }
 ],
 "metadata": {
  "language_info": {
   "name": "python"
  }
 },
 "nbformat": 4,
 "nbformat_minor": 2
}
