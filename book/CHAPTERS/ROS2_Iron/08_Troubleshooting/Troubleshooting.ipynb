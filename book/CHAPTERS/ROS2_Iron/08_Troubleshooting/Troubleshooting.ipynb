{
 "cells": [
  {
   "metadata": {},
   "cell_type": "markdown",
   "source": "# Debugging and Troubleshooting Tips",
   "id": "da554784f683addb"
  },
  {
   "metadata": {},
   "cell_type": "markdown",
   "source": "Debugging in ROS2 can feel overwhelming at first, as issues can stem from either hardware errors, ROS code errors, or anything in between. This chapter will walk you through common problems and essential tools to help you find and fix issues in your ROS2 setup and nodes.",
   "id": "e4aa303ade9fe443"
  },
  {
   "metadata": {},
   "cell_type": "markdown",
   "source": "Before diving into ROS-specific tools, we will look at some fundamentals of debugging in robotics. This will give us the tools to handle the functionalities provided by ROS to troubleshoot our robotics projects.",
   "id": "426cb1e5a87caf16"
  },
  {
   "metadata": {},
   "cell_type": "markdown",
   "source": "## Debugging Core Fundamentals for Robotics",
   "id": "3193ef76c33e6851"
  },
  {
   "metadata": {},
   "cell_type": "markdown",
   "source": "Debugging in robotics is not just about fixing code, it is about diagnosing complex systems where hardware, software, and communication layers all interact. For example, a motor might not be working as expected (i.e. not moving), but is it the code? The power supply? A faulty wire? In robotics, effective debugging means breaking down the problem and attacking it logically. Taking fundamental steps to guide you through the troubleshooting process can make it more efficient.",
   "id": "d10174d989c3bd58"
  },
  {
   "metadata": {},
   "cell_type": "markdown",
   "source": "### 1. Identify and Isolate the Problem",
   "id": "bb8ad5f94251caff"
  },
  {
   "metadata": {},
   "cell_type": "markdown",
   "source": [
    "**Start Broad, Then Narrow**: When something goes wrong in a robotic system, your first task is to pinpoint the specific issue with accuracy — not just “it does not work,” but **how** it does not work.\n",
    "\n",
    "Let us say a motor in your robot stops working. Rather than jumping to conclusions, ask yourself what exactly is wrong with it? Is it:\n",
    "- Not moving at all?\n",
    "- Moving too slowly or too fast?\n",
    "- Moving in the wrong direction?\n",
    "- Stopping intermittently?\n",
    "\n",
    "The more specific your understanding of the issue, the easier it becomes to isolate the root cause. This is why knowing the expected behavior of your system is essential — if you do not know what should happen, it is hard to tell what is broken. Over time, with troubleshooting enough systems, you will build an intuition for what to look for."
   ],
   "id": "6c12c591d194e146"
  },
  {
   "metadata": {},
   "cell_type": "markdown",
   "source": "### 2. Make a Quick Issue List",
   "id": "5709d5f4d2c36da7"
  },
  {
   "metadata": {},
   "cell_type": "markdown",
   "source": [
    "Once you have identified the issue, it helps to make a short list of everything you notice when the issue became evident. This clarifies your understanding and serves as a reference point if multiple issues start to arise.\n",
    "\n",
    "For example, the list could look like:\n",
    "- Motor A does not move when commanded.\n",
    "- No error messages appear.\n",
    "- LED on motor driver is off.\n",
    "- Motor moves correctly when tested directly."
   ],
   "id": "8cd52a4ce603db7f"
  },
  {
   "metadata": {},
   "cell_type": "markdown",
   "source": "### 3. Check Consistency Across Commands",
   "id": "82f77020fe3fae6a"
  },
  {
   "metadata": {},
   "cell_type": "markdown",
   "source": "Try triggering the motor with different commands or inputs. For example, does it fail only in one scenario or across all cases? If the motor does not move even with an alternate command that used to work, it is likely a **hardware or low-level communication issue**. If it works with one command but not another, the issue might be in your **code or logic**.",
   "id": "75027e332dd7d6d1"
  },
  {
   "metadata": {},
   "cell_type": "markdown",
   "source": "### 4. Divide and Conquer, Well-Known Setups",
   "id": "16a9a3ef856bf328"
  },
  {
   "metadata": {},
   "cell_type": "markdown",
   "source": [
    "Once you have identified a potential issue, the next step is to isolate the part of the system you suspect is causing trouble. Robotics systems are full of interdependent components, so sometimes one small failure can create a cascade of problems throughout the entire robot. Your job is to figure out if the component is truly broken — or just being affected by something upstream.\n",
    "\n",
    "For example, if a motor is not working, do not immediately assume it is the motor's fault. It could be:\n",
    "- The motor driver.\n",
    "- The command signal.\n",
    "- The power supply.\n",
    "- A software node upstream."
   ],
   "id": "579230d4f4f830b5"
  },
  {
   "metadata": {},
   "cell_type": "markdown",
   "source": "Another tip for debugging is to use a known-good setup. If something worked before, compare it to your current setup. Did a recent change introduce the issue? This can help with quick debugging.",
   "id": "60fe85c00367620b"
  },
  {
   "metadata": {},
   "cell_type": "markdown",
   "source": "### 5. Replicate the Problem Consistently",
   "id": "52543dab98dd6b5b"
  },
  {
   "metadata": {},
   "cell_type": "markdown",
   "source": "Along with tracking recent changes, try to consistently reproduce the issue — this will help you pinpoint the root cause faster. Try simplifying your setup to the smallest configuration where the issue still occurs, as this makes it easier to pinpoint the root cause.",
   "id": "46049ffbb05b6834"
  },
  {
   "metadata": {},
   "cell_type": "markdown",
   "source": "### 6. Hypothesize and Test Solutions",
   "id": "f31fe5b337031f16"
  },
  {
   "metadata": {},
   "cell_type": "markdown",
   "source": [
    "Another approach is to form a hypothesis based on what you already know about the system. In other words, make an educated guess about what might be causing the issue, then test your theory carefully.\n",
    "\n",
    "As you test, change one variable at a time so you can clearly see what effect each change has. If you modify multiple things at once, it becomes harder to tell what actually solved the problem — or if the problem is even truly fixed.\n",
    "\n",
    "Make sure to document what worked and what did not. This can save you a lot of time if the issue reappears later or if someone else runs into the same problem."
   ],
   "id": "360f543fbfdffcf5"
  },
  {
   "metadata": {},
   "cell_type": "markdown",
   "source": "### 7. Avoid Common Debugging Pitfalls",
   "id": "e44a4049cdbf090d"
  },
  {
   "metadata": {},
   "cell_type": "markdown",
   "source": [
    "- Jumping to conclusions without testing.\n",
    "- Skipping basic checks (such as power, connections, permissions).\n",
    "- Not reading error messages carefully.\n",
    "- Not using available tools to gather more info."
   ],
   "id": "203532177cca0a5c"
  },
  {
   "metadata": {},
   "cell_type": "markdown",
   "source": "Now that we have covered core debugging principles for robotics, let us look at how to apply them using the built-in tools provided by ROS2. These tools will help you observe node behavior, inspect communication between components, and gather the info you need to solve issues efficiently.",
   "id": "66228996aafb49f9"
  },
  {
   "metadata": {},
   "cell_type": "markdown",
   "source": "## Debugging with ROS2 Tools",
   "id": "c930cf60ff7740d0"
  },
  {
   "metadata": {},
   "cell_type": "markdown",
   "source": "In a previous chapter, we introduced useful commands like **ros2 topic** and **ros2 doctor**. In this section, we will dive deeper into **how to use these tools in real debugging scenarios**. In addition, we will look at the command **rqt_graph**. Together, these tools will help you isolate and fix problems more efficiently.",
   "id": "4bc5d22056b8b605"
  },
  {
   "metadata": {},
   "cell_type": "markdown",
   "source": [
    "To communicate the ideas learned in this chapter more effectively, we will follow a mock example in which we will debug an issue step-by-step. **The scenario is the following:** Assume you have built a ROS2 system for a mobile robot that should respond to joystick input. The architecture is:\n",
    "- **/joy_node**: Reads the joystick and publishes data to the **/joy** topic.\n",
    "- **/joy_to_twist**: Converts joystick data into velocity commands (**/cmd_vel**).\n",
    "- **/motor_driver**: Listens to **/cmd_vel** and controls the wheels."
   ],
   "id": "a7a41856c982afc"
  },
  {
   "metadata": {},
   "cell_type": "markdown",
   "source": "But...the robot is not moving. No errors, no movement. Let us debug it following the process from earlier.",
   "id": "1060a3f42fcc9496"
  },
  {
   "metadata": {},
   "cell_type": "markdown",
   "source": "### 1. Identify the Problem Clearly",
   "id": "fc6d63d4741f9652"
  },
  {
   "metadata": {},
   "cell_type": "markdown",
   "source": "You push the joystick, but nothing happens. We can define this issue precisely: The robot does not respond to joystick input. There is no wheel movement when the joystick is pushed.",
   "id": "f28fe061ef693c5b"
  },
  {
   "metadata": {},
   "cell_type": "markdown",
   "source": "### 2. Make a Quick Issue List",
   "id": "446b2e4cb281bf2e"
  },
  {
   "metadata": {},
   "cell_type": "markdown",
   "source": [
    "Take a note of the characteristics of the issue:\n",
    "- Joystick is plugged in.\n",
    "- No movement when pushing stick.\n",
    "- No errors in terminal.\n",
    "- Motors are silent (not twitching or humming).\n",
    "- LED on motor controller is on."
   ],
   "id": "88aff9f59ee75b49"
  },
  {
   "metadata": {},
   "cell_type": "markdown",
   "source": "### 3. Check for Consistency",
   "id": "3ee9ddacd60b4b35"
  },
  {
   "metadata": {},
   "cell_type": "markdown",
   "source": [
    "Here, you can perform a few additional tests to rule out basic options:\n",
    "- Try another joystick; still no response.\n",
    "- Rebooted; no change.\n",
    "- Swapped USB ports; no change."
   ],
   "id": "3d60479c3f893461"
  },
  {
   "metadata": {},
   "cell_type": "markdown",
   "source": "So the problem seems consistent and persistent.",
   "id": "cdb808e7ec1284e"
  },
  {
   "metadata": {},
   "cell_type": "markdown",
   "source": "### 4. Isolate Components",
   "id": "b2251c0666cf3b75"
  },
  {
   "metadata": {},
   "cell_type": "markdown",
   "source": "If checking for consistency results in no improvements, that is no problem. It allows for the step-by-step reduction of potential causes of the main issue. From here, you can try additional commands to check for working components.",
   "id": "f953bd5024f1a17c"
  },
  {
   "metadata": {},
   "cell_type": "markdown",
   "source": "For example, the command: **ls /dev/input/js***",
   "id": "8874eef21a931cf0"
  },
  {
   "metadata": {},
   "cell_type": "markdown",
   "source": "If **ls /dev/input/js0** exists, that means the joystick is detected. If not, it could mean a hardware or permission issue.",
   "id": "ebf900af6470baba"
  },
  {
   "metadata": {},
   "cell_type": "markdown",
   "source": "You can then add yourself to the input group to fix the issue: **sudo usermod -a -G input $USER**",
   "id": "64b779c87e8f6b35"
  },
  {
   "metadata": {},
   "cell_type": "markdown",
   "source": "As covered in a previous chapter, you can also use the command **ros2 node list** to check the nodes that are running in the ROS2 program. If you do not see **/joy_node** listed, then the node is not running. You can try to manually launch it by running the command **ros2 run joy joy_node** and checking for output/errors to debug further (if something goes wrong). If the node successfully launches you can check if it is publishing by running **ros2 topic echo /joy**. If values are not changing with stick movement, the joystick is still not working or is not mapped correctly.",
   "id": "19b440fd175560d9"
  },
  {
   "metadata": {},
   "cell_type": "markdown",
   "source": "Along with isolating components, trying to replicate the issue minimally can help. For example, shutting down all other nodes, components, and processes and running only the joystick node on its own. If the output is seen now, we know **/joy_node** works. If not, then the joystick or config is the problem.",
   "id": "1713bfb5cfb3c61f"
  },
  {
   "metadata": {},
   "cell_type": "markdown",
   "source": "### 6. Form a Hypothesis",
   "id": "429a2232c97f3d7b"
  },
  {
   "metadata": {},
   "cell_type": "markdown",
   "source": "As you gain more experience debugging complex systems, this next idea will become more intuitive. Forming a hypothesis is just a way of focusing on a specific possible cause for the issue at hand. For example, knowing that the system consists if a certain number of physical components, and a certain number of software components, based on what you have already tried and tested, you can brainstorm additional things you have not yet considered. This step is quite difficult at times, as it relies on having a solid understanding of the system, how it operates, and strong intuition built through experience.",
   "id": "be90686202f20f08"
  },
  {
   "metadata": {},
   "cell_type": "markdown",
   "source": "In this case, a person debugging the example system might figure out that the joystick itself works, but maybe **/joy_to_twist** is not converting commands. This hypothesis arises from recognizing that based on previous tests, a hardware fault is likely not the issue, and knowing that a node is responsible for converting joystick data into velocity commands for the device to function properly, it could be the case that although **/joy_to_twist** is running, perhaps it is not correctly converting the data.",
   "id": "9989f8975045e0fc"
  },
  {
   "metadata": {},
   "cell_type": "markdown",
   "source": "As you can see, a chain of logical conclusions leads to this hypothesis, which can then be tested. Sometimes, figuring out additional paths/hypothesis to test is very difficult, and in these scenarios, asking for help is important. If you have access to a professor, mentor, or engineer with more experience, clearly articulating the system you are dealing with, the issue at hand, and the things you have tried will allow them to provide solid help.",
   "id": "f4bfb4c8fcf88c06"
  },
  {
   "metadata": {},
   "cell_type": "markdown",
   "source": "Sometimes, taking a break from trying to debug the issue will allow you to passively think of a new path to test/a solution. Other times, you might have to consult multiple people. In general, with enough time and using the right resources, most issues you will encounter can be solved.",
   "id": "723e2039bebb4f76"
  },
  {
   "metadata": {},
   "cell_type": "markdown",
   "source": "Finally, remember to take advantage of internet resources and forums to search for issues your system is experiencing. Chances are, other users have run into simular bugs and have found tools, methods, or ideas you can look into.",
   "id": "2f69a1df3132c24"
  },
  {
   "metadata": {},
   "cell_type": "markdown",
   "source": "### 7. Using rqt_graph to Visualize Everything",
   "id": "da64a99f4ee3be74"
  },
  {
   "metadata": {},
   "cell_type": "markdown",
   "source": "**rqt_graph** is a graphical introspection tool within ROS2 that displays a visual representation of the ROS graph, showing active nodes, topics, and their connections. This is a very powerful tool that allows the user to understand the structure of their ROS system, identify potential bugs/issues, and debug them effectively.",
   "id": "6b41708fe7739fa5"
  }
 ],
 "metadata": {
  "kernelspec": {
   "display_name": "Python 3",
   "language": "python",
   "name": "python3"
  },
  "language_info": {
   "codemirror_mode": {
    "name": "ipython",
    "version": 2
   },
   "file_extension": ".py",
   "mimetype": "text/x-python",
   "name": "python",
   "nbconvert_exporter": "python",
   "pygments_lexer": "ipython2",
   "version": "2.7.6"
  }
 },
 "nbformat": 4,
 "nbformat_minor": 5
}
