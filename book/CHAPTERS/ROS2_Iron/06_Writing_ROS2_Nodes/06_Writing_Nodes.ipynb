{
 "cells": [
  {
   "cell_type": "markdown",
   "metadata": {},
   "source": [
    "# Writing Nodes"
   ]
  },
  {
   "cell_type": "markdown",
   "metadata": {},
   "source": "In Chapter 3, we explored important concepts such as nodes and topics. In this chapter, we will delve deeper into these ideas by learning how to write nodes. As a refresher, nodes are independent processes that perform specific computations. One of the core functionalities of nodes in ROS2 is to compute some information, publish it to a topic, and allow another node to subscribe to that topic and use the information for further computation. This model of behavior is known as the **publisher-subscriber** model. In this chapter, we will learn how to write nodes that follow this model, along with exploring additional concepts."
  }
 ],
 "metadata": {
  "language_info": {
   "name": "python"
  }
 },
 "nbformat": 4,
 "nbformat_minor": 2
}
