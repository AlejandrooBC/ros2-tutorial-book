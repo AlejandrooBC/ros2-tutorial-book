{
 "cells": [
  {
   "metadata": {},
   "cell_type": "markdown",
   "source": "# Launch Files",
   "id": "37aaa4eb17d58e01"
  },
  {
   "metadata": {},
   "cell_type": "markdown",
   "source": "## Introduction",
   "id": "6b82d84019c8d4ee"
  },
  {
   "metadata": {},
   "cell_type": "markdown",
   "source": [
    "Launch files are an important tool in ROS2. You can think of them as fulfilling the role of a conductor in an orchestra. Each musician (or instrument section) represents an individual ROS2 node, such as a sensor node, a motor controller, or a navigation module. Instead of having each musician start playing randomly, the conductor (launch file) ensures a few things:\n",
    "\n",
    "1. **Everyone starts together**. The launch file starts multiple ROS nodes at the same time, just like a conductor cues musicians to begin playing together.<br><br>\n",
    "2. **Each musician follows a sheet of instructions**. The launch file defines parameters, like volume (sensor sensitivity) or tempo (publish rate), so each node knows how to behave.<br><br>\n",
    "3. **Sections communicate with each other**. Just like strings, brass, and percussion need to coordinate, ROS nodes need to publish and subscribe to correct topics.<br><br>\n",
    "4. **A rehearsal plan is followed**. The launch file can include other launch files, similar to how an orchestra follows a structured program with multiple movements.<br><br>\n",
    "5. **The conductor can adjust the performance dynamically**. Using arguments and parameters, the launch file allows changes (tempo adjustments) without rewriting the entire script.<br><br>\n",
    "\n",
    "From the analogy, we see that launch files allow users to start multiple nodes simultaneously, configure parameters, and pass arguments dynamically. Essentially, they provide a structured way to manage complex robotic applications. Therefore, just as an orchestra would not function as well without a conductor, a complex ROS system would not efficiently start and manage its nodes without a launch file.\n",
    "\n"
   ],
   "id": "bd1ffd6bed23d64a"
  },
  {
   "metadata": {},
   "cell_type": "markdown",
   "source": "## Creating a Basic Launch File",
   "id": "cfc7d498b2ec6ac1"
  },
  {
   "metadata": {},
   "cell_type": "markdown",
   "source": "A launch file in ROS 2 allows us to start multiple nodes, configure parameters, and manage execution in an organized way. In this section, we will break down the Python launch file provided below and explain its components.",
   "id": "7784e3b5f72023e6"
  },
  {
   "metadata": {},
   "cell_type": "code",
   "outputs": [],
   "execution_count": null,
   "source": [
    "import launch # Brings in the core launch module, which allows defining a launch file in Python\n",
    "from launch_ros.actions import Node # Imports the Node action, used to start ROS2 nodes within the launch file\n",
    "\n",
    "# Every launch file in ROS2 requires a function called generate_launch_description()\n",
    "# This function returns a LaunchDescription object that defines what will be executed when the launch file is run\n",
    "def generate_launch_description():\n",
    "    return launch.LaunchDescription([\n",
    "        Node(\n",
    "            package='demo_nodes_cpp', # Defines package containing node\n",
    "            executable='talker', # Defines executable name of node to launch\n",
    "            name='my_talker', # Assigns a custom name to the node\n",
    "            output='screen' # Prints the node los and output to the terminal screen\n",
    "        ),\n",
    "    ])"
   ],
   "id": "4fa863aa0c004a6b"
  },
  {
   "metadata": {},
   "cell_type": "markdown",
   "source": "Once the launch file is created, it can be executed using: **ros2 launch name_of_package name_of_launch_file.py**",
   "id": "4f9855fb70ce95ba"
  },
  {
   "metadata": {},
   "cell_type": "markdown",
   "source": "For example, if the file is named **talker_launch.py**, you would run: **ros2 launch demo_nodes_cpp talker_launch.py**<br><br>This will start the \"talker\" node, which continuously publishes messages on the /chatter topic.",
   "id": "b71a7c07b97ce3b4"
  },
  {
   "metadata": {},
   "cell_type": "markdown",
   "source": "## Expanding the Complexity of the Launch File",
   "id": "e58f1457a793be41"
  },
  {
   "metadata": {},
   "cell_type": "markdown",
   "source": "In the example above, we saw a launch file that launches one node, \"talker\". Now we will expand the functionality of the launch file by having it launch multiple nodes simultaneously. A simple addition will allow the launch file to execute both \"talker\" and \"listener\" nodes at once.",
   "id": "1a3a9e1a707d1bdd"
  },
  {
   "metadata": {},
   "cell_type": "code",
   "outputs": [],
   "execution_count": null,
   "source": [
    "import launch\n",
    "from launch_ros.actions import Node\n",
    "\n",
    "def generate_launch_description():\n",
    "    return launch.LaunchDescription([\n",
    "        Node( # Talker node\n",
    "            package='demo_nodes_cpp',\n",
    "            executable='talker',\n",
    "            name='my_talker',\n",
    "            output='screen'\n",
    "        ),\n",
    "        Node( # Listener node\n",
    "            package='demo_nodes_cpp',\n",
    "            executable='listener',\n",
    "            name='my_listener',\n",
    "            output='screen'\n",
    "        ),\n",
    "    ])"
   ],
   "id": "acebb24b49017725"
  },
  {
   "metadata": {},
   "cell_type": "markdown",
   "source": "The example above shows how launch files can orchestrate multiple ROS nodes at the same time.",
   "id": "4d7c671509d04514"
  },
  {
   "metadata": {},
   "cell_type": "markdown",
   "source": "## Using Parameters in Launch Files",
   "id": "dfa479f3ec42c721"
  },
  {
   "metadata": {},
   "cell_type": "markdown",
   "source": "In the introduction section to this chapter, we mentioned how nodes, like musicians, can follow a \"sheet\" of instructions during their execution. ROS 2 nodes often use parameters to configure their behavior, such as changing publishing rate, enabling debugging, etc. We will now modify the \"talker\" node to accept parameters.",
   "id": "8f2c07c27ad95fa1"
  },
  {
   "metadata": {},
   "cell_type": "code",
   "outputs": [],
   "execution_count": null,
   "source": [
    "import launch\n",
    "from launch_ros.actions import Node\n",
    "from launch_ros.descriptions import ParameterValue # Import to use parameters\n",
    "\n",
    "def generate_launch_description():\n",
    "    return launch.LaunchDescription([\n",
    "        Node(\n",
    "            package='demo_nodes_cpp',\n",
    "            executable='talker',\n",
    "            name='my_talker',\n",
    "            output='screen',\n",
    "            parameters=[{'publish_rate': ParameterValue(5.0)}] # Set publish rate to 5 Hz\n",
    "        ),\n",
    "    ])"
   ],
   "id": "16c58e664316d314"
  },
  {
   "metadata": {},
   "cell_type": "markdown",
   "source": "As you can see, we modified the \"talker\" node to accept parameters, and configured its behavior by changing its publishing rate.",
   "id": "5217f9cd0017bbd7"
  },
  {
   "metadata": {},
   "cell_type": "markdown",
   "source": "## Using Arguments in Launch Files",
   "id": "fcecfe8deb2a2974"
  },
  {
   "metadata": {},
   "cell_type": "markdown",
   "source": "Arguments allow for dynamic configurations without modifying the launch file. In our analogy, just as an orchestra might interpret a piece of music differently depending on the venue (different audience, acoustics, etc.), launch arguments allow us to adjust node behavior dynamically without changing the launch file itself. In this case, the conductor (launch file), can instruct the musicians (nodes) to play in different styles based on the sheet music interpretation (launch arguments).",
   "id": "58501b931f3002d8"
  },
  {
   "metadata": {},
   "cell_type": "code",
   "outputs": [],
   "execution_count": null,
   "source": [
    "import launch\n",
    "from launch import LaunchDescription\n",
    "from launch.actions import DeclareLaunchArgument\n",
    "from launch.substitutions import LaunchConfiguration\n",
    "from launch_ros.actions import Node\n",
    "\n",
    "def generate_launch_description():\n",
    "    use_sim_time = LaunchConfiguration('use_sim_time')\n",
    "\n",
    "    return LaunchDescription([\n",
    "        # Declare an argument for 'use_sim_time' (default: False)\n",
    "        DeclareLaunchArgument(\n",
    "            'use_sim_time',\n",
    "            default_value='false',\n",
    "            description='Use simulated time'\n",
    "        ),\n",
    "\n",
    "        # The musician (node) plays the piece (executes with parameters)\n",
    "        Node(\n",
    "            package='demo_nodes_cpp',\n",
    "            executable='talker',\n",
    "            name='my_talker',\n",
    "            output='screen',\n",
    "            parameters=[{'use_sim_time': use_sim_time}]\n",
    "        ),\n",
    "    ])"
   ],
   "id": "455e2acdb48031dc"
  },
  {
   "metadata": {},
   "cell_type": "markdown",
   "source": "To execute with simulated time, we can run the command:",
   "id": "31ad7e42c1613eef"
  },
  {
   "metadata": {},
   "cell_type": "code",
   "outputs": [],
   "execution_count": null,
   "source": "ros2 launch my_package my_launch_file.py use_sim_time:=true",
   "id": "1894478887e21640"
  },
  {
   "metadata": {},
   "cell_type": "markdown",
   "source": "## Conditional Execution",
   "id": "bb07c28e901f3c70"
  },
  {
   "metadata": {},
   "cell_type": "markdown",
   "source": "In an orchestra, not every instrument plays in every piece. Some musicians wait for the conductor's cue. Similarly, we can enable or disable nodes based on conditions. Just like in general programming, **IfCondition** and **UnlessCondition** can be used to determine if a node should be launched.",
   "id": "e034bb6dac8c8632"
  },
  {
   "metadata": {},
   "cell_type": "code",
   "outputs": [],
   "execution_count": null,
   "source": [
    "from launch.conditions import IfCondition, UnlessCondition\n",
    "\n",
    "def generate_launch_description():\n",
    "    enable_listener = LaunchConfiguration('enable_listener')\n",
    "\n",
    "    return LaunchDescription([\n",
    "        DeclareLaunchArgument(\n",
    "            'enable_listener',\n",
    "            default_value='false',\n",
    "            description='Whether to launch the listener node'\n",
    "        ),\n",
    "\n",
    "        # The listener joins only if 'enable_listener' is set to true\n",
    "        Node(\n",
    "            package='demo_nodes_cpp',\n",
    "            executable='listener',\n",
    "            name='my_listener',\n",
    "            output='screen',\n",
    "            condition=IfCondition(enable_listener),\n",
    "        ),\n",
    "    ])"
   ],
   "id": "97e226cc3e995804"
  },
  {
   "metadata": {},
   "cell_type": "markdown",
   "source": "To enable the listener node when launching:",
   "id": "78441ff233b48250"
  },
  {
   "metadata": {},
   "cell_type": "code",
   "outputs": [],
   "execution_count": null,
   "source": "ros2 launch my_package my_launch_file.py enable_listener:=true",
   "id": "e913bb201eeb889f"
  },
  {
   "metadata": {},
   "cell_type": "markdown",
   "source": "## Handling Events",
   "id": "7a9cf7fe0e2d2f73"
  },
  {
   "metadata": {},
   "cell_type": "markdown",
   "source": "This next functionality is quite basic. If a node crashes, we can restart it. However, just like a conductor might signal a musician to rejoin, using **event handlers**, we can ensure that a node automatically restarts if it exists.",
   "id": "3fdcff6452ee9cfc"
  },
  {
   "metadata": {},
   "cell_type": "code",
   "outputs": [],
   "execution_count": null,
   "source": [
    "from launch.event_handlers import OnProcessExit\n",
    "from launch.actions import RegisterEventHandler, LogInfo\n",
    "\n",
    "def generate_launch_description():\n",
    "    listener_node = Node(\n",
    "        package='demo_nodes_cpp',\n",
    "        executable='listener',\n",
    "        name='my_listener',\n",
    "        output='screen',\n",
    "    )\n",
    "\n",
    "    restart_listener = RegisterEventHandler(\n",
    "        event_handler=OnProcessExit(\n",
    "            target_action=listener_node,\n",
    "            on_exit=[LogInfo(msg='Listener node exited, restarting...'), listener_node],\n",
    "        )\n",
    "    )\n",
    "\n",
    "    return LaunchDescription([\n",
    "        listener_node,\n",
    "        restart_listener, # Automatically restart listener if it stops\n",
    "    ])"
   ],
   "id": "4cad9436d9064068"
  }
 ],
 "metadata": {
  "kernelspec": {
   "display_name": "Python 3",
   "language": "python",
   "name": "python3"
  },
  "language_info": {
   "codemirror_mode": {
    "name": "ipython",
    "version": 2
   },
   "file_extension": ".py",
   "mimetype": "text/x-python",
   "name": "python",
   "nbconvert_exporter": "python",
   "pygments_lexer": "ipython2",
   "version": "2.7.6"
  }
 },
 "nbformat": 4,
 "nbformat_minor": 5
}
