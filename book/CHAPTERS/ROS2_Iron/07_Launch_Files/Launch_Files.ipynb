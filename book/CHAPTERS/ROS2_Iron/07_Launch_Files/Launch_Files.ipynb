{
 "cells": [
  {
   "metadata": {},
   "cell_type": "markdown",
   "source": "# Launch Files",
   "id": "37aaa4eb17d58e01"
  },
  {
   "metadata": {},
   "cell_type": "markdown",
   "source": "## Introduction",
   "id": "6b82d84019c8d4ee"
  },
  {
   "metadata": {},
   "cell_type": "markdown",
   "source": [
    "Launch files are an important tool in ROS2. You can think of them as fulfilling the role of a conductor in an orchestra. Each musician (or instrument section) represents an individual ROS2 node, such as a sensor node, a motor controller, or a navigation module. Instead of having each musician start playing randomly, the conductor (launch file) ensures a few things:\n",
    "\n",
    "1. **Everyone starts together**. The launch file starts multiple ROS nodes at the same time, just like a conductor cues musicians to begin playing together.<br><br>\n",
    "2. **Each musician follows a sheet of instructions**. The launch file defines parameters, like volume (sensor sensitivity) or tempo (publish rate), so each node knows how to behave.<br><br>\n",
    "3. **Sections communicate with each other**. Just like strings, brass, and percussion need to coordinate, ROS nodes need to publish and subscribe to correct topics.<br><br>\n",
    "4. **A rehearsal plan is followed**. The launch file can include other launch files, similar to how an orchestra follows a structured program with multiple movements.<br><br>\n",
    "5. **The conductor can adjust the performance dynamically**. Using arguments and parameters, the launch file allows changes (tempo adjustments) without rewriting the entire script.<br><br>\n",
    "\n",
    "From the analogy, we see that launch files allow users to start multiple nodes simultaneously, configure parameters, and pass arguments dynamically. Essentially, they provide a structured way to manage complex robotic applications. Therefore, just as an orchestra would not function as well without a conductor, a complex ROS system would not efficiently start and manage its nodes without a launch file.\n",
    "\n"
   ],
   "id": "bd1ffd6bed23d64a"
  },
  {
   "metadata": {},
   "cell_type": "markdown",
   "source": "## Creating a Basic Launch File",
   "id": "cfc7d498b2ec6ac1"
  },
  {
   "metadata": {},
   "cell_type": "markdown",
   "source": "A launch file in ROS 2 allows us to start multiple nodes, configure parameters, and manage execution in an organized way. In this section, we will break down the Python launch file provided below and explain its components.",
   "id": "7784e3b5f72023e6"
  },
  {
   "metadata": {},
   "cell_type": "code",
   "outputs": [],
   "execution_count": null,
   "source": [
    "import launch # Brings in the core launch module, which allows defining a launch file in Python\n",
    "from launch_ros.actions import Node # Imports the Node action, used to start ROS2 nodes within the launch file\n",
    "\n",
    "# Every launch file in ROS2 requires a function called generate_launch_description()\n",
    "# This function returns a LaunchDescription object that defines what will be executed when the launch file is run\n",
    "def generate_launch_description():\n",
    "    return launch.LaunchDescription([\n",
    "        Node(\n",
    "            package='demo_nodes_cpp', # Defines package containing node\n",
    "            executable='talker', # Defines executable name of node to launch\n",
    "            name='my_talker', # Assigns a custom name to the node\n",
    "            output='screen' # Prints the node los and output to the terminal screen\n",
    "        ),\n",
    "    ])"
   ],
   "id": "4fa863aa0c004a6b"
  },
  {
   "metadata": {},
   "cell_type": "markdown",
   "source": "Once the launch file is created, it can be executed using: **ros2 launch name_of_package name_of_launch_file.py**",
   "id": "4f9855fb70ce95ba"
  },
  {
   "metadata": {},
   "cell_type": "markdown",
   "source": "For example, if the file is named **talker_launch.py**, you would run: **ros2 launch demo_nodes_cpp talker_launch.py**<br><br>This will start the \"talker\" node, which continuously publishes messages on the /chatter topic.",
   "id": "b71a7c07b97ce3b4"
  },
  {
   "metadata": {},
   "cell_type": "markdown",
   "source": "## Expanding the Complexity of the Launch File",
   "id": "e58f1457a793be41"
  },
  {
   "metadata": {},
   "cell_type": "markdown",
   "source": "",
   "id": "1a3a9e1a707d1bdd"
  }
 ],
 "metadata": {
  "kernelspec": {
   "display_name": "Python 3",
   "language": "python",
   "name": "python3"
  },
  "language_info": {
   "codemirror_mode": {
    "name": "ipython",
    "version": 2
   },
   "file_extension": ".py",
   "mimetype": "text/x-python",
   "name": "python",
   "nbconvert_exporter": "python",
   "pygments_lexer": "ipython2",
   "version": "2.7.6"
  }
 },
 "nbformat": 4,
 "nbformat_minor": 5
}
