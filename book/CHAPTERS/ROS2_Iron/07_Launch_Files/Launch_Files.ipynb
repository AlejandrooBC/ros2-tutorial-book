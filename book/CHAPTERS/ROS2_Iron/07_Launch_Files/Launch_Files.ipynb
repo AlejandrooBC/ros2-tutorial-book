{
 "cells": [
  {
   "metadata": {},
   "cell_type": "markdown",
   "source": "# Launch Files",
   "id": "37aaa4eb17d58e01"
  },
  {
   "metadata": {},
   "cell_type": "markdown",
   "source": "## Introduction",
   "id": "6b82d84019c8d4ee"
  },
  {
   "metadata": {},
   "cell_type": "markdown",
   "source": [
    "Launch files are an important tool in ROS2. You can think of them as fulfilling the role of a conductor in an orchestra. Each musician (or instrument section) represents an individual ROS2 node, such as a sensor node, a motor controller, or a navigation module. Instead of having each musician start playing randomly, the conductor (launch file) ensures a few things:\n",
    "\n",
    "1. **Everyone starts together**. The launch file starts multiple ROS nodes at the same time, just like a conductor cues musicians to begin playing together.<br><br>\n",
    "2. **Each musician follows a sheet of instructions**. The launch file defines parameters, like volume (sensor sensitivity) or tempo (publish rate), so each node knows how to behave.<br><br>\n",
    "3. **Sections communicate with each other**. Just like strings, brass, and percussion need to coordinate, ROS nodes need to publish and subscribe to correct topics.<br><br>\n",
    "4. **A rehearsal plan is followed**. The launch file can include other launch files, similar to how an orchestra follows a structured program with multiple movements.<br><br>\n",
    "5. **The conductor can adjust the performance dynamically**. Using arguments and parameters, the launch file allows changes (tempo adjustments) without rewriting the entire script.<br><br>\n",
    "\n",
    "From the analogy, we see that launch files allow users to start multiple nodes simultaneously, configure parameters, and pass arguments dynamically. Essentially, they provide a structured way to manage complex robotic applications. Therefore, just as an orchestra would not function as well without a conductor, a complex ROS system would not efficiently start and manage its nodes without a launch file.\n",
    "\n"
   ],
   "id": "bd1ffd6bed23d64a"
  },
  {
   "metadata": {},
   "cell_type": "markdown",
   "source": "## Creating a Basic Launch File",
   "id": "cfc7d498b2ec6ac1"
  },
  {
   "metadata": {},
   "cell_type": "markdown",
   "source": "Plan is to explain this code",
   "id": "7784e3b5f72023e6"
  },
  {
   "metadata": {},
   "cell_type": "code",
   "outputs": [],
   "execution_count": null,
   "source": [
    "import launch\n",
    "from launch_ros.actions import Node\n",
    "\n",
    "def generate_launch_description():\n",
    "    return launch.LaunchDescription([\n",
    "        Node(\n",
    "            package='demo_nodes_cpp',\n",
    "            executable='talker',\n",
    "            name='my_talker',\n",
    "            output='screen'\n",
    "        ),\n",
    "    ])"
   ],
   "id": "4fa863aa0c004a6b"
  }
 ],
 "metadata": {
  "kernelspec": {
   "display_name": "Python 3",
   "language": "python",
   "name": "python3"
  },
  "language_info": {
   "codemirror_mode": {
    "name": "ipython",
    "version": 2
   },
   "file_extension": ".py",
   "mimetype": "text/x-python",
   "name": "python",
   "nbconvert_exporter": "python",
   "pygments_lexer": "ipython2",
   "version": "2.7.6"
  }
 },
 "nbformat": 4,
 "nbformat_minor": 5
}
