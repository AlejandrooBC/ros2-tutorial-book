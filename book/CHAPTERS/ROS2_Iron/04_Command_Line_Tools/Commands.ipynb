{
 "cells": [
  {
   "metadata": {},
   "cell_type": "markdown",
   "source": "# ROS2 Command-Line Tools",
   "id": "43973c332119c86f"
  },
  {
   "metadata": {},
   "cell_type": "markdown",
   "source": "Now that we have looked at a few fundamental ROS2 concepts and functionalities, we will learn about essential ROS2 command-line tools to interact with your robotics applications. These tools allow you to run nodes, inspect topics, call services, and manage parameters directly from the terminal.",
   "id": "aea792bf61a64296"
  },
  {
   "metadata": {},
   "cell_type": "markdown",
   "source": "## ROS2 Run",
   "id": "c7ecff70c761e2d6"
  },
  {
   "metadata": {},
   "cell_type": "markdown",
   "source": "This command is used to run a node from a specific package.",
   "id": "7c58a41154f65f5e"
  },
  {
   "metadata": {},
   "cell_type": "markdown",
   "source": [
    "**Purpose**: Launches a ROS2 node without needing a launch file.<br>\n",
    "**Syntax**: ros2 run package_name executable_name<br>\n",
    "**Example**: ros2 run turtlesim turtlesim_node\n",
    "\n",
    "The above command starts the Turtlesim simulation."
   ],
   "id": "53c82896fe048f6e"
  },
  {
   "metadata": {},
   "cell_type": "markdown",
   "source": "## ROS2 Topic",
   "id": "bd207e958b59a174"
  },
  {
   "metadata": {},
   "cell_type": "markdown",
   "source": "",
   "id": "5288a06fd7f4f75e"
  }
 ],
 "metadata": {
  "kernelspec": {
   "display_name": "Python 3",
   "language": "python",
   "name": "python3"
  },
  "language_info": {
   "codemirror_mode": {
    "name": "ipython",
    "version": 2
   },
   "file_extension": ".py",
   "mimetype": "text/x-python",
   "name": "python",
   "nbconvert_exporter": "python",
   "pygments_lexer": "ipython2",
   "version": "2.7.6"
  }
 },
 "nbformat": 4,
 "nbformat_minor": 5
}
