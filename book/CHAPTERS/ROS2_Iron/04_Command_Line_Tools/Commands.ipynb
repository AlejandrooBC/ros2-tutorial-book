{
 "cells": [
  {
   "metadata": {},
   "cell_type": "markdown",
   "source": "# ROS2 Command-Line Tools",
   "id": "43973c332119c86f"
  },
  {
   "metadata": {},
   "cell_type": "markdown",
   "source": "Now that we have looked at a few fundamental ROS2 concepts and functionalities, we will learn about essential ROS2 command-line tools to interact with your robotics applications. These tools allow you to run nodes, inspect topics, call services, and manage parameters directly from the terminal.",
   "id": "aea792bf61a64296"
  },
  {
   "metadata": {},
   "cell_type": "markdown",
   "source": "## ROS2 Run",
   "id": "c7ecff70c761e2d6"
  },
  {
   "metadata": {},
   "cell_type": "markdown",
   "source": "This command is used to run a node from a specific package.",
   "id": "7c58a41154f65f5e"
  },
  {
   "metadata": {},
   "cell_type": "markdown",
   "source": [
    "**Purpose**: Launches a ROS2 node without needing a launch file.<br>\n",
    "**Syntax**: ros2 run package_name executable_name<br>\n",
    "**Example**: ros2 run turtlesim turtlesim_node\n",
    "\n",
    "The above command starts the Turtlesim simulation."
   ],
   "id": "53c82896fe048f6e"
  },
  {
   "metadata": {},
   "cell_type": "markdown",
   "source": "## ROS2 Topic",
   "id": "bd207e958b59a174"
  },
  {
   "metadata": {},
   "cell_type": "markdown",
   "source": "Views, echoes, or publishes to topics.",
   "id": "5288a06fd7f4f75e"
  },
  {
   "metadata": {},
   "cell_type": "markdown",
   "source": "**Purpose**: Inspects the data flow between nodes via topics.",
   "id": "9908593cf4ee3ba7"
  },
  {
   "metadata": {},
   "cell_type": "markdown",
   "source": "### Subcommands",
   "id": "a166f532e397ced7"
  },
  {
   "metadata": {},
   "cell_type": "markdown",
   "source": [
    "**ros2 topic list**: List all active topics.<br>\n",
    "**ros2 topic echo topic_name**: Displays messages published to a topic.<br>\n",
    "**ros2 topic pub topic_name message_type message**: Publishes messages to a topic."
   ],
   "id": "d0defd4d506d9422"
  },
  {
   "metadata": {},
   "cell_type": "markdown",
   "source": "### Examples",
   "id": "88ade4c4843dfabb"
  },
  {
   "metadata": {},
   "cell_type": "markdown",
   "source": [
    "**Example 1 - List Active Topics**<br>\n",
    "ros2 topic list<br><br>\n",
    "**Example 2 - Display Position Updates From Turtlesim**<br>\n",
    "ros2 topic echo /turtle1/pose"
   ],
   "id": "814d0527906aab34"
  },
  {
   "metadata": {},
   "cell_type": "markdown",
   "source": "## ROS2 Service",
   "id": "79a7292b5fcd7a4c"
  },
  {
   "metadata": {},
   "cell_type": "markdown",
   "source": "Calls or lists available services.",
   "id": "d6c7fe9725462bea"
  },
  {
   "metadata": {},
   "cell_type": "markdown",
   "source": "**Purpose**: Interacts with ROS2 services for specific node operations.",
   "id": "3c34e05930df60c1"
  },
  {
   "metadata": {},
   "cell_type": "markdown",
   "source": "### Subcommands",
   "id": "ca0e0f5b56ee899c"
  },
  {
   "metadata": {},
   "cell_type": "markdown",
   "source": [
    "**ros2 service list**: Lists all available services.<br>\n",
    "**ros2 service call service_name service type '{request}'**: Calls a service with a request."
   ],
   "id": "afe16369b6f8078f"
  },
  {
   "metadata": {},
   "cell_type": "markdown",
   "source": [
    "**Example**: ros2 service call /clear std_srvs/srv/Empty<br><br>\n",
    "The above command clears the Turtlesim screen."
   ],
   "id": "6463946c59dbef02"
  },
  {
   "metadata": {},
   "cell_type": "markdown",
   "source": "## ROS2 Node",
   "id": "4a332a9c0417d1c4"
  },
  {
   "metadata": {},
   "cell_type": "markdown",
   "source": "Lists the nodes running in the system.",
   "id": "80d53cc07dd72914"
  },
  {
   "metadata": {},
   "cell_type": "markdown",
   "source": "**Purpose**: Provides information about active nodes.",
   "id": "5092f4d58e4549a6"
  },
  {
   "metadata": {},
   "cell_type": "markdown",
   "source": "### Subcommands",
   "id": "97365a1ac6ca6783"
  },
  {
   "metadata": {},
   "cell_type": "markdown",
   "source": [
    "**ros2 node list**: Lists all active nodes.<br>\n",
    "**ros2 node info node_name**: Displays details above a specific node."
   ],
   "id": "eb99b97b97adc2bf"
  },
  {
   "metadata": {},
   "cell_type": "markdown",
   "source": [
    "**Example**: ros2 node info /turtlesim<br><br>\n",
    "The above command gets information about the Turtlesim node."
   ],
   "id": "7817ba4b3ba1a7bb"
  },
  {
   "metadata": {},
   "cell_type": "markdown",
   "source": "## ROS2 Param",
   "id": "cf58dbb40b2b3bde"
  },
  {
   "metadata": {},
   "cell_type": "markdown",
   "source": "Gets, sets, and lists node parameters. Keep in mind that node parameters are configuration options that allow the user to customize and control the behavior of nodes without needing to modify the code. Parameters are stored within a node and can be dynamically set, retrieved, or modified during runtime, enabling flexibility and reusability of code.",
   "id": "44a7943c057ff189"
  },
  {
   "metadata": {},
   "cell_type": "markdown",
   "source": "**Purpose**: Manages parameters for nodes dynamically.",
   "id": "ffa70270aa802cbc"
  },
  {
   "metadata": {},
   "cell_type": "markdown",
   "source": "### Subcommands",
   "id": "fa6c471496fc4489"
  },
  {
   "metadata": {},
   "cell_type": "markdown",
   "source": [
    "**ros2 param list**: Lists all parameters of a node.<br>\n",
    "**ros 2 param get node_name parameter_name**: Retrieves the value of a parameter.<br>\n",
    "**ros2 param set node_name parameter_name value**: Sets a parameter value."
   ],
   "id": "e2e788274ef7575a"
  },
  {
   "metadata": {},
   "cell_type": "markdown",
   "source": "### Examples",
   "id": "a751ecbf13df7d67"
  },
  {
   "metadata": {},
   "cell_type": "markdown",
   "source": [
    "**Example 1 - List Parameters for the Turtlesim Node**<br>\n",
    "ros2 param list /turtlesim<br><br>\n",
    "**Example 2 - Change the Background Color of the Turtlesim Screen**<br>\n",
    "ros2 param set /turtlesim background_r 255"
   ],
   "id": "a8574e87af682d72"
  },
  {
   "metadata": {},
   "cell_type": "markdown",
   "source": "## ROS2 Launch",
   "id": "dcf5e21cc172e84"
  },
  {
   "metadata": {},
   "cell_type": "markdown",
   "source": "Launches multiple nodes using a launch file.",
   "id": "28495c7245ee72ac"
  },
  {
   "metadata": {},
   "cell_type": "markdown",
   "source": "**Purpose**: Runs multiple nodes simultaneously and allows configuration of parameters.<br>",
   "id": "cdb5416b3a9bd8b9"
  },
  {
   "metadata": {},
   "cell_type": "markdown",
   "source": "### Examples",
   "id": "b6fcd7e99faa664d"
  },
  {
   "metadata": {},
   "cell_type": "markdown",
   "source": [
    "**Example 1 - Launch the Nodes in a Package**<br>\n",
    "ros2 launch package_name launch_file<br><br>\n",
    "**Example 2 - Launch Multiple Instances of the Turtlesim Node**<br>\n",
    "ros2 launch turtlesim multisim.launch.py"
   ],
   "id": "afaa19bab45079f"
  },
  {
   "metadata": {},
   "cell_type": "markdown",
   "source": "## ROS2 Bag",
   "id": "ee80b5deccb6a88d"
  },
  {
   "metadata": {},
   "cell_type": "markdown",
   "source": "Records and replays data from topics.",
   "id": "ddcaffe3a118a463"
  },
  {
   "metadata": {},
   "cell_type": "markdown",
   "source": "**Purpose**: Captures data from topics for debugging and analysis, or replays data to simulate a scenario.",
   "id": "db5e65802356946a"
  },
  {
   "metadata": {},
   "cell_type": "markdown",
   "source": "### Subcommands",
   "id": "79b290eec959345b"
  },
  {
   "metadata": {},
   "cell_type": "markdown",
   "source": [
    "**ros2 bag record name_of_topics**: Records data from specified topics.<br>\n",
    "**ros 2 bag play bag_file**: Replays data from a recorded bag file.<br>\n",
    "**ros2 bag info bag_file**: Provides information about a bag file."
   ],
   "id": "beb237a57e59701d"
  },
  {
   "metadata": {},
   "cell_type": "markdown",
   "source": "### Examples",
   "id": "ca6b430be08d1e62"
  },
  {
   "metadata": {},
   "cell_type": "markdown",
   "source": [
    "**Example 1 - Record Data from /turtle1/cmd_vel**<br>\n",
    "ros2 bag record /turtle1/cmd_vel<br><br>\n",
    "**Example 2 - Replay the Data (from some named bag file)**<br>\n",
    "ros2 bag play rosbag2_2025_02_06"
   ],
   "id": "c862bc484a9f25bf"
  },
  {
   "metadata": {},
   "cell_type": "markdown",
   "source": "## ROS2 Action",
   "id": "d96decd9d3a2697b"
  },
  {
   "metadata": {},
   "cell_type": "markdown",
   "source": "Interacts with ROS2 action servers.",
   "id": "9d8d8f3cf697a419"
  },
  {
   "metadata": {},
   "cell_type": "markdown",
   "source": "**Purpose**: Inspects and calls actions in the system.",
   "id": "39923b11e407c90d"
  },
  {
   "metadata": {},
   "cell_type": "markdown",
   "source": "### Subcommands",
   "id": "89b90866cfabd464"
  },
  {
   "metadata": {},
   "cell_type": "markdown",
   "source": [
    "**ros2 action list**: Lists all active actions.<br>\n",
    "**ros2 action send_goal name_of_action type_of_action \"{goal_request}\"**: Sends a goal request to an action.<br>\n",
    "**ros2 action info name_of_action**: Provides details about an action."
   ],
   "id": "813907e8c70fe3b8"
  },
  {
   "metadata": {},
   "cell_type": "markdown",
   "source": [
    "**Example - Send a Goal to Move a Robot Arm**<br>\n",
    "ros2 action send_goal /move_arm /control_msgs/action/FollowJointTrajectory \"{trajectory: ...}\""
   ],
   "id": "cee6be1075005f81"
  },
  {
   "metadata": {},
   "cell_type": "markdown",
   "source": "## ROS2 Interface",
   "id": "4edc474f7da7ab0c"
  },
  {
   "metadata": {},
   "cell_type": "markdown",
   "source": "Displays information about message, service, or action interfaces.",
   "id": "a654bc467943d507"
  },
  {
   "metadata": {},
   "cell_type": "markdown",
   "source": "**Purpose**: Helps understand the structure of ROS2 interfaces.",
   "id": "ef2250e741e9adab"
  },
  {
   "metadata": {},
   "cell_type": "markdown",
   "source": "### Subcommands",
   "id": "fecd935061e93dce"
  },
  {
   "metadata": {},
   "cell_type": "markdown",
   "source": [
    "**ros2 interface show name_of_interface**: Displays the details of an interface.<br>\n",
    "**ros2 interface list**: Lists all available interfaces."
   ],
   "id": "c2246f4d9dcef5fe"
  },
  {
   "metadata": {},
   "cell_type": "markdown",
   "source": [
    "***Example - Show Details of a Message Type**<br>\n",
    "ros2 interface show geometry_msgs/msg/Twist"
   ],
   "id": "c138328b05288516"
  },
  {
   "metadata": {},
   "cell_type": "markdown",
   "source": "",
   "id": "98636c87c309496d"
  }
 ],
 "metadata": {
  "kernelspec": {
   "display_name": "Python 3",
   "language": "python",
   "name": "python3"
  },
  "language_info": {
   "codemirror_mode": {
    "name": "ipython",
    "version": 2
   },
   "file_extension": ".py",
   "mimetype": "text/x-python",
   "name": "python",
   "nbconvert_exporter": "python",
   "pygments_lexer": "ipython2",
   "version": "2.7.6"
  }
 },
 "nbformat": 4,
 "nbformat_minor": 5
}
