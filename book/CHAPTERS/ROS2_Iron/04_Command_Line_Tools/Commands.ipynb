{
 "cells": [
  {
   "metadata": {},
   "cell_type": "markdown",
   "source": "# ROS2 Command-Line Tools",
   "id": "43973c332119c86f"
  },
  {
   "metadata": {},
   "cell_type": "markdown",
   "source": "Now that we have looked at a few fundamental ROS2 concepts and functionalities, we will learn about essential ROS2 command-line tools to interact with your robotics applications. These tools allow you to run nodes, inspect topics, call services, and manage parameters directly from the terminal.",
   "id": "aea792bf61a64296"
  },
  {
   "metadata": {},
   "cell_type": "markdown",
   "source": "## ROS2 Run",
   "id": "c7ecff70c761e2d6"
  },
  {
   "metadata": {},
   "cell_type": "markdown",
   "source": "This command is used to run a node from a specific package.",
   "id": "7c58a41154f65f5e"
  },
  {
   "metadata": {},
   "cell_type": "markdown",
   "source": [
    "**Purpose**: Launches a ROS2 node without needing a launch file.<br>\n",
    "**Syntax**: ros2 run package_name executable_name<br>\n",
    "**Example**: ros2 run turtlesim turtlesim_node\n",
    "\n",
    "The above command starts the Turtlesim simulation."
   ],
   "id": "53c82896fe048f6e"
  },
  {
   "metadata": {},
   "cell_type": "markdown",
   "source": "## ROS2 Topic",
   "id": "bd207e958b59a174"
  },
  {
   "metadata": {},
   "cell_type": "markdown",
   "source": "Views, echoes, or publishes to topics.",
   "id": "5288a06fd7f4f75e"
  },
  {
   "metadata": {},
   "cell_type": "markdown",
   "source": "**Purpose**: Inspects the data flow between nodes via topics.",
   "id": "9908593cf4ee3ba7"
  },
  {
   "metadata": {},
   "cell_type": "markdown",
   "source": "### Subcommands",
   "id": "a166f532e397ced7"
  },
  {
   "metadata": {},
   "cell_type": "markdown",
   "source": [
    "**ros2 topic list**: List all active topics.<br>\n",
    "**ros2 topic echo topic_name**: Displays messages published to a topic.<br>\n",
    "**ros2 topic pub topic_name message_type message**: Publishes messages to a topic."
   ],
   "id": "d0defd4d506d9422"
  },
  {
   "metadata": {},
   "cell_type": "markdown",
   "source": "### Examples",
   "id": "88ade4c4843dfabb"
  },
  {
   "metadata": {},
   "cell_type": "markdown",
   "source": [
    "**Example 1 - List Active Topics**<br>\n",
    "ros2 topic list<br><br>\n",
    "**Example 2 - Display Position Updates From Turtlesim**<br>\n",
    "ros2 topic echo /turtle1/pose\n"
   ],
   "id": "814d0527906aab34"
  },
  {
   "metadata": {},
   "cell_type": "markdown",
   "source": "## ROS2 Service",
   "id": "79a7292b5fcd7a4c"
  },
  {
   "metadata": {},
   "cell_type": "markdown",
   "source": "Calls or lists available services.",
   "id": "d6c7fe9725462bea"
  },
  {
   "metadata": {},
   "cell_type": "markdown",
   "source": "**Purpose**: Interacts with ROS2 services for specific node operations.",
   "id": "3c34e05930df60c1"
  },
  {
   "metadata": {},
   "cell_type": "markdown",
   "source": "### Subcommands",
   "id": "ca0e0f5b56ee899c"
  },
  {
   "metadata": {},
   "cell_type": "markdown",
   "source": [
    "**ros2 service list**: Lists all available services.<br>\n",
    "**ros2 service call service_name service type '{request}'**: Calls a service with a request."
   ],
   "id": "afe16369b6f8078f"
  },
  {
   "metadata": {},
   "cell_type": "markdown",
   "source": "",
   "id": "6463946c59dbef02"
  }
 ],
 "metadata": {
  "kernelspec": {
   "display_name": "Python 3",
   "language": "python",
   "name": "python3"
  },
  "language_info": {
   "codemirror_mode": {
    "name": "ipython",
    "version": 2
   },
   "file_extension": ".py",
   "mimetype": "text/x-python",
   "name": "python",
   "nbconvert_exporter": "python",
   "pygments_lexer": "ipython2",
   "version": "2.7.6"
  }
 },
 "nbformat": 4,
 "nbformat_minor": 5
}
