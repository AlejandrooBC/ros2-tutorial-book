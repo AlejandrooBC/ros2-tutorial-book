{
  "nbformat": 4,
  "nbformat_minor": 0,
  "metadata": {
    "colab": {
      "provenance": []
    },
    "kernelspec": {
      "name": "python3",
      "display_name": "Python 3"
    },
    "language_info": {
      "name": "python"
    }
  },
  "cells": [
    {
      "cell_type": "markdown",
      "source": [
        "# Packages"
      ],
      "metadata": {
        "id": "OyZllsqA_ySD"
      }
    },
    {
      "cell_type": "markdown",
      "source": [
        "## Introduction"
      ],
      "metadata": {
        "id": "OKKxSC3ZAO-S"
      }
    },
    {
      "cell_type": "markdown",
      "source": [
        "Packages in ROS2 are the core unit for code organization. They mainly contain nodes, libraries, and config files. Their purpose is code modularity and reusability, as well as dependency management. A package can be created in your src folder with the following command:"
      ],
      "metadata": {
        "id": "-uF-dC7E3yWx"
      }
    },
    {
      "cell_type": "markdown",
      "source": [
        "## Basic Package Creation"
      ],
      "metadata": {
        "id": "qVscHVAEAjZp"
      }
    },
    {
      "cell_type": "code",
      "execution_count": null,
      "metadata": {
        "id": "Ct8lw9r_3xSS"
      },
      "outputs": [],
      "source": [
        "ros2 pkg create --build-type ament_python <package_name>\n",
        "#You can also create packages with CMAKE instead of python, in which case\n",
        "#simply replace ament_python with ament_cmake as below.\n",
        "ros2 pkg create --build-type ament_cmake <package_name>\n",
        "\n",
        "'''\n",
        "These are the optional additional arguments for package creation.\n",
        "options:\n",
        "  -h, --help            show this help message and exit\n",
        "  --package-format {2,3}, --package_format {2,3}\n",
        "                        The package.xml format.\n",
        "  --description DESCRIPTION\n",
        "                        The description given in the package.xml\n",
        "  --license LICENSE     The license attached to this package; this can be an arbitrary string, but\n",
        "                        a LICENSE file will only be generated if it is one of the supported\n",
        "                        licenses (pass '?' to get a list)\n",
        "  --destination-directory DESTINATION_DIRECTORY\n",
        "                        Directory where to create the package directory\n",
        "  --build-type {cmake,ament_cmake,ament_python}\n",
        "                        The build type to process the package with\n",
        "  --dependencies DEPENDENCIES [DEPENDENCIES ...]\n",
        "                        list of dependencies\n",
        "  --maintainer-email MAINTAINER_EMAIL\n",
        "                        email address of the maintainer of this package\n",
        "  --maintainer-name MAINTAINER_NAME\n",
        "                        name of the maintainer of this package\n",
        "  --node-name NODE_NAME\n",
        "                        name of the empty executable\n",
        "  --library-name LIBRARY_NAME\n",
        "                        name of the empty library\n",
        "  '''"
      ]
    },
    {
      "cell_type": "markdown",
      "source": [
        "## Package Formatting"
      ],
      "metadata": {
        "id": "EwDC4ZcKAwYp"
      }
    },
    {
      "cell_type": "markdown",
      "source": [
        "Running the command with built type ament_python will produce the following message:\n",
        "\n",
        "\n",
        "```\n",
        "going to create a new package\n",
        "package name: myPackage\n",
        "destination directory: /content\n",
        "package format: 3\n",
        "version: 0.0.0\n",
        "description: TODO: Package description\n",
        "maintainer: ['root <root@todo.todo>']\n",
        "licenses: ['TODO: License declaration']\n",
        "build type: ament_python\n",
        "dependencies: []\n",
        "creating folder ./myPackage\n",
        "creating ./myPackage/package.xml\n",
        "creating source folder\n",
        "creating folder ./myPackage/myPackage\n",
        "creating ./myPackage/setup.py\n",
        "creating ./myPackage/setup.cfg\n",
        "creating folder ./myPackage/resource\n",
        "creating ./myPackage/resource/myPackage\n",
        "creating ./myPackage/myPackage/__init__.py\n",
        "creating folder ./myPackage/test\n",
        "creating ./myPackage/test/test_copyright.py\n",
        "creating ./myPackage/test/test_flake8.py\n",
        "creating ./myPackage/test/test_pep257.py\n",
        "\n",
        "[WARNING]: Unknown license 'TODO: License declaration'.  This has been set in the package.xml, but no LICENSE file has been created.\n",
        "It is recommended to use one of the ament license identifiers:\n",
        "Apache-2.0\n",
        "BSL-1.0\n",
        "BSD-2.0\n",
        "BSD-2-Clause\n",
        "BSD-3-Clause\n",
        "GPL-3.0-only\n",
        "LGPL-3.0-only\n",
        "MIT\n",
        "MIT-0\n",
        "\n",
        "```\n",
        "You can use the optional arguments above to avoid the warning and add a license to your package. In this text we can see under the hood of package creation, and the actual files created when running the package constructor. The general structure of any package is a folder with three nested folders. The parent folder is named myPackage, and contains another folder named myPackage, a folder named resource, and a folder named test. If called with the --node-name optional argument, you will also see a .py file with your specified name be placed in the myPackage folder within the parent myPackage folder. All executable files you want in the package should go in this folder.\n"
      ],
      "metadata": {
        "id": "n8HCdkhzd9J7"
      }
    },
    {
      "cell_type": "markdown",
      "source": [
        "## XML Metadata"
      ],
      "metadata": {
        "id": "ipPJD2ojA21k"
      }
    },
    {
      "cell_type": "markdown",
      "source": [
        "One of the files created above is called package.xml, and is used to store metadata about the package, such as the package name, version, description, maintainer information, license, and dependency information. Below are the contents of the xml file for the package we created in the earlier example."
      ],
      "metadata": {
        "id": "snjK_uJAf6eB"
      }
    },
    {
      "cell_type": "code",
      "source": [
        "<package format=\"3\">\n",
        "  <name>myPackage</name>\n",
        "  <version>0.0.0</version>\n",
        "  <description>TODO: Package description</description>\n",
        "  <maintainer email=\"root@todo.todo\">root</maintainer>\n",
        "  <license>TODO: License declaration</license>\n",
        "  <test_depend>ament_copyright</test_depend>\n",
        "  <test_depend>ament_flake8</test_depend>\n",
        "  <test_depend>ament_pep257</test_depend>\n",
        "  <test_depend>python3-pytest</test_depend>\n",
        "  <export>\n",
        "    <build_type>ament_python</build_type>\n",
        "  </export>\n",
        "</package>"
      ],
      "metadata": {
        "id": "x3DwtdkFi9Ii"
      },
      "execution_count": null,
      "outputs": []
    },
    {
      "cell_type": "markdown",
      "source": [
        "## Building Packages"
      ],
      "metadata": {
        "id": "1JJivwXDBR2_"
      }
    },
    {
      "cell_type": "markdown",
      "source": [
        "Packages can be built together by calling\n",
        "\n",
        "```\n",
        "colcon build\n",
        "```\n",
        "from the root of your workspace.\n",
        "\n",
        "You will want to add the optional --merge-install argument on windows to avoid the file path becoming too long.\n",
        "\n",
        "This will build all packages in your workspace. If you want to only build specific packages, you can use\n",
        "```\n",
        "colcon build --packages-select <package_name>\n",
        "```\n",
        "\n"
      ],
      "metadata": {
        "id": "bGNprqDNjCYv"
      }
    }
  ]
}