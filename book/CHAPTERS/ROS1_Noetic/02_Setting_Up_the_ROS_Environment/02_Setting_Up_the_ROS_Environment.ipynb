{
 "cells": [
  {
   "cell_type": "markdown",
   "id": "6e34d35f",
   "metadata": {},
   "source": [
    "# Setting Up the ROS Environment"
   ]
  },
  {
   "cell_type": "markdown",
   "id": "9f928214",
   "metadata": {},
   "source": [
    "## Creating the First Workspace"
   ]
  },
  {
   "cell_type": "markdown",
   "id": "27c24508",
   "metadata": {},
   "source": [
    "ROS uses catkin to manage its dependencies via CMake and also has Python code stored here. This code is required to use ROS dependencies. Thus, a catkin workspace is required:"
   ]
  },
  {
   "cell_type": "markdown",
   "id": "5d974f81",
   "metadata": {},
   "source": [
    "```bash\n",
    "$ mkdir -p ~/catkin_ws/src\n",
    "$ cd ~/catkin_ws/\n",
    "$ catkin_make\n",
    "```"
   ]
  },
  {
   "cell_type": "markdown",
   "id": "307cd8b4",
   "metadata": {},
   "source": [
    "This creates a lot of the scripts that will allow the user to interface with the ROS dependencies. In this case, a script is needed:"
   ]
  },
  {
   "cell_type": "markdown",
   "id": "ff627985",
   "metadata": {},
   "source": [
    "```Bash\n",
    "$ source devel/setup.bash\n",
    "```"
   ]
  },
  {
   "cell_type": "markdown",
   "id": "b27fa431",
   "metadata": {},
   "source": [
    "Also, make sure that this setup script was properly activated by ensuring the enviroment variable ROS_PACKAGE_PATH is defined with the current path. The output of the second output should appear in the output of the first command."
   ]
  },
  {
   "cell_type": "markdown",
   "id": "df511bc1",
   "metadata": {},
   "source": [
    "```bash\n",
    "$ echo $ROS_PACKAGE_PATH\n",
    "$ pwd\n",
    "```"
   ]
  },
  {
   "cell_type": "markdown",
   "id": "6a4bc060",
   "metadata": {},
   "source": [
    "This creates the workspace that will be used in future tutorials."
   ]
  }
 ],
 "metadata": {
  "language_info": {
   "name": "python"
  }
 },
 "nbformat": 4,
 "nbformat_minor": 5
}
