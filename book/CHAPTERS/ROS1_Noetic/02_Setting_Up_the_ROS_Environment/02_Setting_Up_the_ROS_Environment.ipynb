{
 "cells": [
  {
   "cell_type": "markdown",
   "id": "6e34d35f",
   "metadata": {},
   "source": [
    "# Setting Up the ROS Environment"
   ]
  },
  {
   "cell_type": "markdown",
   "id": "2ac295f3",
   "metadata": {},
   "source": []
  }
 ],
 "metadata": {
  "language_info": {
   "name": "python"
  }
 },
 "nbformat": 4,
 "nbformat_minor": 5
}
