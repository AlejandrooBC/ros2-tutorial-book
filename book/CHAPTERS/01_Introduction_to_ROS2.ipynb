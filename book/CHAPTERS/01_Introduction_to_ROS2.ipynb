{
 "cells": [
  {
   "metadata": {},
   "cell_type": "markdown",
   "source": "# Introduction to ROS2",
   "id": "888a27b20769ffc8"
  },
  {
   "metadata": {},
   "cell_type": "markdown",
   "source": "## What is ROS2?",
   "id": "975b958a66592d8b"
  },
  {
   "metadata": {},
   "cell_type": "markdown",
   "source": [
    "Unlike its name suggests, Robot Operating System 2 (ROS2), is an open-source middleware framework designed for the development of robotic systems. It is not actually an operating system. ROS2 builds on the concepts of ROS1, but also brings significant improvements in flexibility, performance, and security. This enables roboticists to design advanced and reliable robotics applications.<br>\n",
    "\n",
    "ROS was invented in 2007 by a group of engineers and researchers at Stanford University and Willow Garage to address the challenges of modern robotics, such as scalability, real-time control, and multi-robot systems. ROS2 provides tools and libraries to help in building, testing, and deploying complex robotic systems."
   ],
   "id": "d43800d3716454a"
  }
 ],
 "metadata": {
  "kernelspec": {
   "display_name": "Python 3",
   "language": "python",
   "name": "python3"
  },
  "language_info": {
   "codemirror_mode": {
    "name": "ipython",
    "version": 2
   },
   "file_extension": ".py",
   "mimetype": "text/x-python",
   "name": "python",
   "nbconvert_exporter": "python",
   "pygments_lexer": "ipython2",
   "version": "2.7.6"
  }
 },
 "nbformat": 4,
 "nbformat_minor": 5
}
