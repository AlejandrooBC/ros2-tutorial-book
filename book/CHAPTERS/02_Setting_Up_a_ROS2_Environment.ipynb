{
 "cells": [
  {
   "metadata": {},
   "cell_type": "markdown",
   "source": "# Setting Up a ROS2 Environment",
   "id": "7756e2459ee1a195"
  },
  {
   "metadata": {},
   "cell_type": "markdown",
   "source": "",
   "id": "d4dfa857c8210f3f"
  }
 ],
 "metadata": {
  "kernelspec": {
   "display_name": "Python 3",
   "language": "python",
   "name": "python3"
  },
  "language_info": {
   "codemirror_mode": {
    "name": "ipython",
    "version": 2
   },
   "file_extension": ".py",
   "mimetype": "text/x-python",
   "name": "python",
   "nbconvert_exporter": "python",
   "pygments_lexer": "ipython2",
   "version": "2.7.6"
  }
 },
 "nbformat": 4,
 "nbformat_minor": 5
}
