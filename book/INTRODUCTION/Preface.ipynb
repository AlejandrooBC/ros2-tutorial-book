{
 "cells": [
  {
   "metadata": {},
   "cell_type": "markdown",
   "source": "# Preface",
   "id": "ec8b532a411733c5"
  },
  {
   "metadata": {},
   "cell_type": "markdown",
   "source": "## Introduction",
   "id": "d5c3760791065331"
  },
  {
   "metadata": {},
   "cell_type": "markdown",
   "source": [
    "\"A Guide to ROS2\" is a book developed by the Fall 2024 Rensselaer Polytechnic Institute Center for Open Source (RCOS) Team \"Learn ROS through Python Turtle.\" This book serves as a practical guide to Robot Operating System 2 (ROS2), an open-source framework widely used for developing robotic systems. Whether you're new to robotics or looking to deepen your knowledge of ROS2, this book provides a structured approach to learning the core concepts, tools, and applications of ROS2.<br><br>\n",
    "Throughout this book, you'll learn how to set up a ROS2 environment, understand essential concepts like nodes, topics, and services, and work through hands-on exercises that teach the fundamentals of ROS2. With step-by-step tutorials and examples, this guide aims to help you understand the core concepts. These concepts can be expanded upon and developed to successfully build and deploy personal robotic projects."
   ],
   "id": "aceaae41bfd5ca00"
  },
  {
   "metadata": {},
   "cell_type": "markdown",
   "source": "## Who This Book is For",
   "id": "11c10315e608c63d"
  },
  {
   "metadata": {},
   "cell_type": "markdown",
   "source": [
    "This book is for students, hobbyists, and professionals interested in robotics development using ROS2. Whether you're a beginner just starting your journey in robotics or an experienced developer looking to deepen your knowledge of ROS2, this book provides practical, hands-on guidance tailored to your needs.<br><br>\n",
    "No prior experience with ROS is required, but familiarity with Python and Linux will help you get the most out of the tutorials. From setting up a development environment to building complex robotic systems, this book is ideal for anyone eager to learn the ins and outs of ROS2 and apply it to real-world projects.\n",
    "\n"
   ],
   "id": "3b79f205e12fa47e"
  },
  {
   "metadata": {},
   "cell_type": "markdown",
   "source": "## How to Get the Most Out of this Book",
   "id": "d4e607cdb89a852f"
  },
  {
   "metadata": {},
   "cell_type": "markdown",
   "source": "This book assumes that you are at least a Python novice. Readers should be comfortable with the basic Python syntax, such as variables, lists, dictionaries, loops, and functions. Furthermore, a basic understanding of how Python classes work is beneficial. As long as readers follow the examples carefully, they will be able to follow along with this book. ",
   "id": "fbcc076807d93868"
  },
  {
   "metadata": {},
   "cell_type": "markdown",
   "source": "## What This Book Covers",
   "id": "a84abfe59ae6209b"
  },
  {
   "metadata": {},
   "cell_type": "markdown",
   "source": [
    "**Chapter 1** _Introduction to ROS2_: Introduces the basics of ROS2, including its purpose, differences from ROS1, and how it's used in various fields like robotics and simulation.<br>\n",
    "\n",
    "**Chapter 2** _Setting Up a ROS2 Environment_: Explains how to set up your ROS2 development environment, including ROS2 distributions and installation instructions for Ubuntu, Windows, and macOS.<br>\n",
    "\n",
    "**Chapter 3** _Basic ROS2 Concepts_: Explains the foundational concepts of ROS2, such as nodes, topics, services, actions, parameters, and launch files, which form the core of any ROS2-based system.<br>\n",
    "\n",
    "**Chapter 4** _ROS2 Command-Line Tools_: Here, you'll explore the key ROS2 command-line tools such as **ros2 run**, **ros2 topic**, **ros2 service**, and more. You'll learn how to use these tools to interact with your ROS2 nodes and manage system parameters.<br>\n",
    "\n",
    "**Chapter 5** _Using Turtlesim - Practical Applications_: This chapter walks you through using **Turtlesim**, a simple ROS2 application. You'll learn how to install it and use it for hands-on ROS2 practice.<br>\n",
    "\n",
    "**Chapter 6** _Writing a Simple ROS2 Node_: In this chapter, you'll learn how to write your first ROS2 node, taking you step-by-step through the process of creating, running, and testing your node.<br>\n",
    "\n",
    "**Chapter 7** _Working with Launch Files_: Launch files are essential for running multiple nodes together in ROS2. This chapter will guide you on how to create and use launch files effectively.<br>\n",
    "\n",
    "**Chapter 8** _Debugging Tips_: Learn best practices for debugging ROS2 applications in this chapter, including tools and techniques to troubleshoot issues you may encounter while developing with ROS2."
   ],
   "id": "78f9b07117c24243"
  },
  {
   "metadata": {},
   "cell_type": "markdown",
   "source": "## Acknowledgments",
   "id": "e8ddbf0b1d21df50"
  },
  {
   "metadata": {},
   "cell_type": "markdown",
   "source": [
    "Some of the text and code examples in this book are adapted from the [ROS Website](https://www.ros.org/). Credit goes to the ROS team for their excellent documentation and resources, which have made it easier for developers and enthusiasts alike to learn and work with ROS and ROS2. Their contributions to the robotics community are invaluable, and this book builds upon the solid foundation they've created.<br>\n",
    "\n",
    "The team extends their deepest thanks to their advisor, **Dr. Kimberly Oakes**, for her invaluable guidance and mentorship throughout the project. The team is grateful for its collaborators **Luca Vitti**, **Alejandro Begara Criado**, **Niko Baletin**, and **Jeremy Goldberger** for their dedication and contributions to the work.<br>\n",
    "\n",
    "Lastly, a special thanks to **Professor Wes Turner** for working as the Director of the Rensselaer Center for Open Source (RCOS) at Rensselaer Polytechnic Institute, and for fostering a collaborative environment where students can contribute to impactful open-source projects. His leadership and commitment to open-source learning have greatly enriched the students' experiences."
   ],
   "id": "6f5fdf28aafb053b"
  }
 ],
 "metadata": {
  "kernelspec": {
   "display_name": "Python 3",
   "language": "python",
   "name": "python3"
  },
  "language_info": {
   "codemirror_mode": {
    "name": "ipython",
    "version": 2
   },
   "file_extension": ".py",
   "mimetype": "text/x-python",
   "name": "python",
   "nbconvert_exporter": "python",
   "pygments_lexer": "ipython2",
   "version": "2.7.6"
  }
 },
 "nbformat": 4,
 "nbformat_minor": 5
}
