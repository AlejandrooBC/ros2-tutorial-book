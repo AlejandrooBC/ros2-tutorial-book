{
 "cells": [
  {
   "cell_type": "markdown",
   "id": "d1c3079e697750e6",
   "metadata": {},
   "source": [
    "# Table of Contents"
   ]
  },
  {
   "cell_type": "markdown",
   "id": "f4350789ab33fb03",
   "metadata": {},
   "source": [
    "- [Chapter 1: Introduction to ROS2](../ROS2_Iron/CHAPTERS/01_Introduction_to_ROS2.ipynb)\n",
    "- [Chapter 2: Setting Up a ROS2 Environment](../ROS2_Iron/CHAPTERS/02_Setting_Up_a_ROS2_Environment.ipynb)\n",
    "- [Chapter 3: Basic ROS2 Concepts](../ROS2_Iron/CHAPTERS/03_Basic_ROS2_Concepts.ipynb)"
   ]
  }
 ],
 "metadata": {
  "kernelspec": {
   "display_name": "Python 3",
   "language": "python",
   "name": "python3"
  },
  "language_info": {
   "codemirror_mode": {
    "name": "ipython",
    "version": 2
   },
   "file_extension": ".py",
   "mimetype": "text/x-python",
   "name": "python",
   "nbconvert_exporter": "python",
   "pygments_lexer": "ipython2",
   "version": "2.7.6"
  }
 },
 "nbformat": 4,
 "nbformat_minor": 5
}
