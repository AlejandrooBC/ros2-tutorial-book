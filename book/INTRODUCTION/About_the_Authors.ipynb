{
 "cells": [
  {
   "metadata": {},
   "cell_type": "markdown",
   "source": "# About the Authors",
   "id": "ae6ea2090b17f255"
  },
  {
   "metadata": {},
   "cell_type": "markdown",
   "source": "## **Team Advisor: Dr. Kimberly Oakes**",
   "id": "4a1bf655cc606b17"
  },
  {
   "metadata": {},
   "cell_type": "markdown",
   "source": "<img src=\"https://faculty.rpi.edu/sites/default/files/2022-09/meProffesional_0.jpg\" alt=\"RPI Faculty\" style=\"width: 300px; border-radius: 10px;\"> <br>",
   "id": "d41236d89164f24b"
  },
  {
   "metadata": {},
   "cell_type": "markdown",
   "source": "Dr. Kimberly Oakes is a Lecturer at the Department of Electrical, Computer, and Systems Engineering at Rensselaer Polytechnic Institute. Her research interests include control of robotic manipulators for large load manipulation in space applications and human-robot interaction. She received a dual Bachelors degree in Electrical Engineering and Physics with Honors from Clarkson University in the USA in 2016. She received a Doctoral degree in Electrical Engineering at Rensselaer Polytechnic Institute (RPI) in the USA in 2022.",
   "id": "2196346df4fea53c"
  },
  {
   "metadata": {},
   "cell_type": "markdown",
   "source": "## **Alejandro Begara Criado**\n",
   "id": "525ec7e2ae52e9ec"
  },
  {
   "metadata": {},
   "cell_type": "markdown",
   "source": "<img src=\"https://media.licdn.com/dms/image/v2/D5603AQEgCKY53OkuNA/profile-displayphoto-shrink_200_200/profile-displayphoto-shrink_200_200/0/1712347667557?e=1735171200&v=beta&t=6NliVzVN_gTyIVgOjt8d0sBiiJcIkv9RZ1hjNn_C4zg\" alt=\"Alejandro's Profile Picture\" style=\"width:200px; border-radius:50%;\"> <br>",
   "id": "41d72d4ee525d689"
  },
  {
   "metadata": {},
   "cell_type": "markdown",
   "source": [
    "Alejandro is a senior studying Electrical and Computer Engineering at Rensselaer Polytechnic Institute. His interests include robotics, medical devices, and prosthetics. Outside of academics, he plays guitar in the Rensselaer Music Association.\n",
    "\n",
    "[LinkedIn](https://www.linkedin.com/in/alejandrobegaracriado/)<br>[GitHub](https://github.com/AlejandrooBC)"
   ],
   "id": "bf97439913b2feed"
  },
  {
   "metadata": {},
   "cell_type": "markdown",
   "source": "## **Luca Vitti**\n",
   "id": "675e4453b00e68"
  },
  {
   "metadata": {},
   "cell_type": "markdown",
   "source": "<img src=\"https://media.licdn.com/dms/image/v2/D4D03AQEmTMPzlit_cg/profile-displayphoto-shrink_200_200/profile-displayphoto-shrink_200_200/0/1718308845486?e=1736380800&v=beta&t=rjJPKtiI3xXQ9hmigJN_V-NdauNCDZnW3iKczm3u09o\" alt=\"Profile Picture\" style=\"width:200px; border-radius:50%;\"><br>",
   "id": "61c1e16da8071afc"
  },
  {
   "metadata": {},
   "cell_type": "markdown",
   "source": [
    "Luca is a senior studying Computer Science at Rensselaer Polytechnic Institute. His interests include robotics and software engineering. Luca manages the robotics club on campus and plays on the RPI water polo team.\n",
    "\n",
    "[LinkedIn](https://www.linkedin.com/in/luca-vitti/)<br>[GitHub](https://github.com/LucaVits)"
   ],
   "id": "d881b68be3dae266"
  },
  {
   "metadata": {},
   "cell_type": "markdown",
   "source": "## **Niko Baletin**\n",
   "id": "ce268a3e3e85f8ac"
  },
  {
   "metadata": {},
   "cell_type": "markdown",
   "source": "## **Jeremy Goldberger**\n",
   "id": "d21324e1fed9af54"
  },
  {
   "metadata": {},
   "cell_type": "markdown",
   "source": "",
   "id": "62ddf87f0b167f3"
  }
 ],
 "metadata": {
  "kernelspec": {
   "display_name": "Python 3",
   "language": "python",
   "name": "python3"
  },
  "language_info": {
   "codemirror_mode": {
    "name": "ipython",
    "version": 2
   },
   "file_extension": ".py",
   "mimetype": "text/x-python",
   "name": "python",
   "nbconvert_exporter": "python",
   "pygments_lexer": "ipython2",
   "version": "2.7.6"
  }
 },
 "nbformat": 4,
 "nbformat_minor": 5
}
