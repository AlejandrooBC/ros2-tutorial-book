{
 "cells": [
  {
   "cell_type": "markdown",
   "id": "268576f364f544a3",
   "metadata": {
    "nbgrader": {
     "grade": true,
     "grade_id": "cell-80840ba0ffb9f34c",
     "locked": false,
     "points": 2,
     "schema_version": 3,
     "solution": true,
     "task": false
    }
   },
   "source": [
    "# Introduction to ROS2: Quiz 1"
   ]
  },
  {
   "cell_type": "markdown",
   "id": "2eb1c47f-2677-4f60-a88d-79924ebfff0f",
   "metadata": {},
   "source": [
    "# Question 1: What does ROS stand for?\n",
    "A) Robotic Operating System\n",
    "B) Robot Operating System\n",
    "C) Robotics and Open Source"
   ]
  },
  {
   "cell_type": "code",
   "execution_count": 1,
   "id": "b8adf99a-1d07-46b9-a727-418a284975a4",
   "metadata": {},
   "outputs": [],
   "source": [
    "# Autograded Cell\n",
    "def answer():\n",
    "    return \"Robot Operating System\" # Correct answer\n",
    "\n",
    "assert answer() == \"Robot Operating System\""
   ]
  }
 ],
 "metadata": {
  "kernelspec": {
   "display_name": "Python 3 (ipykernel)",
   "language": "python",
   "name": "python3"
  },
  "language_info": {
   "codemirror_mode": {
    "name": "ipython",
    "version": 3
   },
   "file_extension": ".py",
   "mimetype": "text/x-python",
   "name": "python",
   "nbconvert_exporter": "python",
   "pygments_lexer": "ipython3",
   "version": "3.10.6"
  }
 },
 "nbformat": 4,
 "nbformat_minor": 5
}
