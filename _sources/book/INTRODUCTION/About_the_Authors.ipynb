{
 "cells": [
  {
   "metadata": {},
   "cell_type": "markdown",
   "source": "# About the Authors",
   "id": "ae6ea2090b17f255"
  },
  {
   "metadata": {},
   "cell_type": "markdown",
   "source": "## **Team Advisor: Dr. Kimberly Oakes**",
   "id": "4a1bf655cc606b17"
  },
  {
   "metadata": {},
   "cell_type": "markdown",
   "source": "<img src=\"https://faculty.rpi.edu/sites/default/files/2022-09/meProffesional_0.jpg\" alt=\"RPI Faculty\" style=\"width: 300px; border-radius: 10px;\">",
   "id": "d41236d89164f24b"
  },
  {
   "metadata": {},
   "cell_type": "markdown",
   "source": "Kimberly Oakes is a Lecturer at the Department of Electrical, Computer, and Systems Engineering at Rensselaer Polytechnic Institute. Her research interests include control of robotic manipulators for large load manipulation in space applications and human-robot interaction. She received a dual Bachelors degree in Electrical Engineering and Physics with Honors from Clarkson University in the USA in 2016. She received a Doctoral degree in Electrical Engineering at Rensselaer Polytechnic Institute (RPI) in the USA in 2022.",
   "id": "2196346df4fea53c"
  }
 ],
 "metadata": {
  "kernelspec": {
   "display_name": "Python 3",
   "language": "python",
   "name": "python3"
  },
  "language_info": {
   "codemirror_mode": {
    "name": "ipython",
    "version": 2
   },
   "file_extension": ".py",
   "mimetype": "text/x-python",
   "name": "python",
   "nbconvert_exporter": "python",
   "pygments_lexer": "ipython2",
   "version": "2.7.6"
  }
 },
 "nbformat": 4,
 "nbformat_minor": 5
}
