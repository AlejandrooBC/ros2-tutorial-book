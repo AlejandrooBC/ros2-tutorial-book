{
 "cells": [
  {
   "cell_type": "markdown",
   "id": "ae6ea2090b17f255",
   "metadata": {},
   "source": [
    "# About the Authors"
   ]
  },
  {
   "cell_type": "markdown",
   "id": "4a1bf655cc606b17",
   "metadata": {},
   "source": [
    "## **Team Advisor: Dr. Kimberly Oakes**"
   ]
  },
  {
   "cell_type": "markdown",
   "id": "d41236d89164f24b",
   "metadata": {},
   "source": [
    "<img src=\"https://faculty.rpi.edu/sites/default/files/2022-09/meProffesional_0.jpg\" alt=\"RPI Faculty\" style=\"width: 300px; border-radius: 10px;\"> <br>"
   ]
  },
  {
   "cell_type": "markdown",
   "id": "2196346df4fea53c",
   "metadata": {},
   "source": [
    "Dr. Kimberly Oakes is a Lecturer at the Department of Electrical, Computer, and Systems Engineering at Rensselaer Polytechnic Institute. Her research interests include control of robotic manipulators for large load manipulation in space applications and human-robot interaction. She received a dual Bachelors degree in Electrical Engineering and Physics with Honors from Clarkson University in the USA in 2016. She received a Doctoral degree in Electrical Engineering at Rensselaer Polytechnic Institute (RPI) in the USA in 2022."
   ]
  },
  {
   "cell_type": "markdown",
   "id": "525ec7e2ae52e9ec",
   "metadata": {},
   "source": [
    "## **Alejandro Begara Criado**\n"
   ]
  },
  {
   "cell_type": "markdown",
   "id": "41d72d4ee525d689",
   "metadata": {},
   "source": [
    "<img src=\"https://media.licdn.com/dms/image/v2/D5603AQEgCKY53OkuNA/profile-displayphoto-shrink_200_200/profile-displayphoto-shrink_200_200/0/1712347667557?e=2147483647&v=beta&t=IpmMnsIOdkxMgDWnGmQu6a9s8fW3QioEpOrLI_IJ02o\" alt=\"Alejandro's Profile Picture\" style=\"width:200px; border-radius:50%;\"> <br>"
   ]
  },
  {
   "cell_type": "markdown",
   "id": "bf97439913b2feed",
   "metadata": {},
   "source": [
    "Alejandro is a senior studying Electrical and Computer Engineering at Rensselaer Polytechnic Institute. His interests include robotics, medical devices, and prosthetics. Outside of academics, he plays guitar in the Rensselaer Music Association.\n",
    "\n",
    "[LinkedIn](https://www.linkedin.com/in/alejandrobegaracriado/)<br>[GitHub](https://github.com/AlejandrooBC)"
   ]
  },
  {
   "cell_type": "markdown",
   "id": "675e4453b00e68",
   "metadata": {},
   "source": [
    "## **Luca Vitti**\n"
   ]
  },
  {
   "cell_type": "markdown",
   "id": "61c1e16da8071afc",
   "metadata": {},
   "source": [
    "<img src=\"https://media.licdn.com/dms/image/v2/D4D03AQEmTMPzlit_cg/profile-displayphoto-shrink_200_200/profile-displayphoto-shrink_200_200/0/1718308845486?e=2147483647&v=beta&t=47aAj5DFrT0hks3wipgcKDRXqC79f1b5U3-Qv62mZDQ\" alt=\"Profile Picture\" style=\"width:200px; border-radius:50%;\"><br>"
   ]
  },
  {
   "cell_type": "markdown",
   "id": "d881b68be3dae266",
   "metadata": {},
   "source": [
    "Luca is a senior studying Computer Science at Rensselaer Polytechnic Institute. His interests include robotics and software engineering. Luca manages the robotics club on campus and plays on the RPI water polo team.\n",
    "\n",
    "[LinkedIn](https://www.linkedin.com/in/luca-vitti/)<br>[GitHub](https://github.com/LucaVits)"
   ]
  },
  {
   "cell_type": "markdown",
   "id": "ce268a3e3e85f8ac",
   "metadata": {},
   "source": [
    "## **Niko Baletin**\n"
   ]
  },
  {
   "cell_type": "markdown",
   "id": "6625077d",
   "metadata": {},
   "source": [
    "<img src=\"https://media.licdn.com/dms/image/v2/D4E03AQERyufpVSyr5g/profile-displayphoto-shrink_200_200/profile-displayphoto-shrink_200_200/0/1727315717697?e=2147483647&v=beta&t=_01TwdzikBrhZrz5l-VCl-pgwPDwSxky4ZYouSAesVc\" alt=\"Profile Picture\" style=\"width:200px; border-radius:50%;\"><br>"
   ]
  },
  {
   "cell_type": "markdown",
   "id": "5bc34b9a",
   "metadata": {},
   "source": [
    "Niko is a sophomore studying Computer Science at Rensselaer Polytechnic Institute. His interests include robotics, computer vision, and mathematics. Outside of class, Niko is part of SHPE, the Bridge Scholars Program, and the RPI Board Games Club.\n",
    "\n",
    "[LinkedIn](https://www.linkedin.com/in/nikola-baletin/)<br>[GitHub](https://github.com/razsta4ax)"
   ]
  },
  {
   "cell_type": "markdown",
   "id": "d21324e1fed9af54",
   "metadata": {},
   "source": [
    "## **Jeremy Goldberger**\n"
   ]
  },
  {
   "cell_type": "markdown",
   "id": "62ddf87f0b167f3",
   "metadata": {},
   "source": []
  }
 ],
 "metadata": {
  "kernelspec": {
   "display_name": "Python 3",
   "language": "python",
   "name": "python3"
  },
  "language_info": {
   "codemirror_mode": {
    "name": "ipython",
    "version": 2
   },
   "file_extension": ".py",
   "mimetype": "text/x-python",
   "name": "python",
   "nbconvert_exporter": "python",
   "pygments_lexer": "ipython2",
   "version": "2.7.6"
  }
 },
 "nbformat": 4,
 "nbformat_minor": 5
}
