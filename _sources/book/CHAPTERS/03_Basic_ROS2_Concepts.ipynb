{
 "cells": [
  {
   "metadata": {},
   "cell_type": "markdown",
   "source": "# Basic ROS2 Concepts",
   "id": "c685ae26d856952d"
  },
  {
   "metadata": {},
   "cell_type": "markdown",
   "source": "This section will introduce basic ROS2 concepts and functionalities. These modular components allow roboticists to create and manage complex robotic systems. Some of the concepts that you will learn about include nodes, topics, services, actions, and more. Below are a few notes about each. You will dive deeper into each concept by exploring its corresponding subchapter.",
   "id": "a43a15dcf4fe001e"
  },
  {
   "metadata": {},
   "cell_type": "markdown",
   "source": [
    "**Nodes** are independent processes that perform specific computations, allowing different parts of a robot to operate in parallel.\n",
    "\n",
    "**Topics** are named channels that enable communication between nodes using a publish/subscribe model, where data flows asynchronously from publishers to subscribers.\n",
    "\n",
    "**Services** allow for synchronous communication between nodes, enabling them to send a request and receive a response for operations requiring immediate feedback.\n",
    "\n",
    "**Actions** are another communication type and are used for tasks that take time to complete, offering feedback and goal tracking throughout execution.\n",
    "\n",
    "**"
   ],
   "id": "74e4b80c558a8e49"
  }
 ],
 "metadata": {
  "kernelspec": {
   "display_name": "Python 3",
   "language": "python",
   "name": "python3"
  },
  "language_info": {
   "codemirror_mode": {
    "name": "ipython",
    "version": 2
   },
   "file_extension": ".py",
   "mimetype": "text/x-python",
   "name": "python",
   "nbconvert_exporter": "python",
   "pygments_lexer": "ipython2",
   "version": "2.7.6"
  }
 },
 "nbformat": 4,
 "nbformat_minor": 5
}
