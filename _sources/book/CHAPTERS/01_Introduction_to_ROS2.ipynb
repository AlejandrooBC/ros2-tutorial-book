{
 "cells": [
  {
   "metadata": {},
   "cell_type": "markdown",
   "source": "# Introduction to ROS2",
   "id": "888a27b20769ffc8"
  },
  {
   "metadata": {},
   "cell_type": "markdown",
   "source": "## What is ROS2?",
   "id": "975b958a66592d8b"
  },
  {
   "metadata": {},
   "cell_type": "markdown",
   "source": [
    "Unlike its name suggests, Robot Operating System 2 (ROS2), is an open-source middleware framework designed for the development of robotic systems. It is not actually an operating system. ROS2 builds on the concepts of ROS1, but also brings significant improvements in flexibility, performance, and security. This enables roboticists to design advanced and reliable robotics applications.<br>\n",
    "\n",
    "ROS was invented in 2007 by a group of engineers and researchers at Stanford University and Willow Garage to address the challenges of modern robotics, such as scalability, real-time control, and multi-robot systems. ROS2 provides tools and libraries to help in building, testing, and deploying complex robotic systems."
   ],
   "id": "d43800d3716454a"
  },
  {
   "metadata": {},
   "cell_type": "markdown",
   "source": "## Differences Between ROS1 and ROS2\n",
   "id": "e50e425960a3e299"
  },
  {
   "metadata": {},
   "cell_type": "markdown",
   "source": [
    "ROS2 introduces several enhancements to address some of the limitations of ROS1:\n",
    "\n",
    "1. **Real-time support**: ROS2 has real-time control mechanisms, making it ideal for robotics applications that require precise timing and performance guarantees.\n",
    "    - *For example*, monitoring a drone’s altitude and position to land in a specific spot.<br><br>\n",
    "\n",
    "2. **Security**: ROS2 comes with built-in support for security features, including secure communication channels and user authentication, a major improvement over ROS1.<br><br>\n",
    "\n",
    "3. **Middleware (DDS)**: ROS2 uses DDS (Data Distribution Service) as its communication backend, which enables seamless communication between nodes in distributed systems.<br><br>\n",
    "\n",
    "4. **Multi-platform support**: While ROS1 was primarily Linux-based, ROS2 is designed to work on multiple platforms (Linux, Windows, macOS) without relying on external dependencies. However, it seems Linux is the most commonly used and error-free platform.<br><br>\n",
    "\n",
    "5. **Component lifecycle management**: ROS2 introduces the concept of managed nodes, enabling better control over the lifecycle of system components, from startup to shutdown.<br><br>\n",
    "\n",
    "6. **Multi-robot systems**: ROS2’s architecture is more suitable for multi-robot coordination, making it easier to build systems with multiple robots collaborating."
   ],
   "id": "bbf2eb8bc0d9a185"
  },
  {
   "metadata": {},
   "cell_type": "markdown",
   "source": "## Practical Use Cases for ROS2",
   "id": "b64558fb1f373450"
  },
  {
   "metadata": {},
   "cell_type": "markdown",
   "source": [
    "ROS2 has diverse applications in robotics and related fields, making it a powerful tool for building, testing, and deploying a wide range of systems. ROS2 is widely used in the development of autonomous vehicles, industrial robots, healthcare, etc. <br>\n",
    "\n",
    "At Rensselaer Polytechnic Institute (RPI), ROS2 has been used in several projects. For example, one senior capstone team used ROS2 to **develop their aircraft assembly robot**. This project utilizes ROS2 nodes and other capabilities to enable functionalities such as arm control, LiDAR sensing, and remote controlled movement."
   ],
   "id": "cccadf137bbd24ec"
  },
  {
   "metadata": {},
   "cell_type": "markdown",
   "source": [
    "![Aircraft Robot](../MEDIA/Aircraft_Robot_Resized.jpg)\n",
    "\n",
    "**Aircraft Assembly Robot - Spring 2024 RPI Capstone Team**<br><br>"
   ],
   "id": "cc56ea042603f15"
  },
  {
   "metadata": {},
   "cell_type": "markdown",
   "source": [
    "<iframe width=\"560\" height=\"315\" src=\"https://www.youtube.com/embed/7HU2VlFNIrY\" frameborder=\"0\" allow=\"accelerometer; autoplay; clipboard-write; encrypted-media; gyroscope; picture-in-picture\" allowfullscreen></iframe>\n",
    "\n",
    "**Aircraft Robot Arm Control Using ROS2 - Spring 2024 RPI Capstone Team**<br>"
   ],
   "id": "db6476695e5caff"
  },
  {
   "metadata": {},
   "cell_type": "markdown",
   "source": "As seen from the examples above, learning ROS2 opens up a world of possibilities for anyone passionate about robotics. Now that we have a better idea of what ROS2 is and its capabilities, the remainder of the book will guide you step-by-step, starting from setting up a ROS2 environment up to using nodes and other ROS2 functionalities.",
   "id": "d74ab538bac5164e"
  }
 ],
 "metadata": {
  "kernelspec": {
   "display_name": "Python 3",
   "language": "python",
   "name": "python3"
  },
  "language_info": {
   "codemirror_mode": {
    "name": "ipython",
    "version": 2
   },
   "file_extension": ".py",
   "mimetype": "text/x-python",
   "name": "python",
   "nbconvert_exporter": "python",
   "pygments_lexer": "ipython2",
   "version": "2.7.6"
  }
 },
 "nbformat": 4,
 "nbformat_minor": 5
}
