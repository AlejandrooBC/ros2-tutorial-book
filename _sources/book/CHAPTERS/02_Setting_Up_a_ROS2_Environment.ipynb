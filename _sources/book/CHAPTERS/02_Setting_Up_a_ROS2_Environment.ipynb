{
 "cells": [
  {
   "metadata": {},
   "cell_type": "markdown",
   "source": "# Setting Up a ROS2 Environment",
   "id": "7756e2459ee1a195"
  },
  {
   "metadata": {},
   "cell_type": "markdown",
   "source": "## What are ROS Distributions?",
   "id": "d4dfa857c8210f3f"
  },
  {
   "metadata": {},
   "cell_type": "markdown",
   "source": "A ROS2 distribution is a versioned set of packages and libraries that provide the necessary functionality to build and deploy ROS2 applications. Similar to software distributions in Linux, ROS2 distributions are released periodically and are supported for a certain period. Each distribution includes a stable set of features and tools designed for a specific platform, and users are encouraged to use the latest stable version for optimal support.\n",
   "id": "f152d9eee750cf82"
  },
  {
   "metadata": {},
   "cell_type": "markdown",
   "source": [
    "Some of the most commonly used ROS2 distributions include:\n",
    "- **Foxy Fitzroy**: Long-term support (LTS) release, with stability and support until 2023.\n",
    "- **Galactic Geochelone**: A mid-term release with support until 2022.\n",
    "- **Humble Hawksbill**: An LTS release with a focus on real-time performance and multi-platform support."
   ],
   "id": "ec38c81859a6e985"
  },
  {
   "metadata": {},
   "cell_type": "markdown",
   "source": "To set up a ROS2 environment, use the tutorials linked below to get started installing ROS2 for your operating system of choice:",
   "id": "5917df968fd3d13d"
  }
 ],
 "metadata": {
  "kernelspec": {
   "display_name": "Python 3",
   "language": "python",
   "name": "python3"
  },
  "language_info": {
   "codemirror_mode": {
    "name": "ipython",
    "version": 2
   },
   "file_extension": ".py",
   "mimetype": "text/x-python",
   "name": "python",
   "nbconvert_exporter": "python",
   "pygments_lexer": "ipython2",
   "version": "2.7.6"
  }
 },
 "nbformat": 4,
 "nbformat_minor": 5
}
