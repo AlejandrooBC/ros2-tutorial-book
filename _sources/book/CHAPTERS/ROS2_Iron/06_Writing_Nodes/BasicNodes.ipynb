{
 "cells": [
  {
   "cell_type": "markdown",
   "metadata": {},
   "source": [
    "# Basic ROS Nodes"
   ]
  },
  {
   "cell_type": "markdown",
   "metadata": {},
   "source": [
    "You are already familiar with ROS nodes from the Turtlesim exercises. Nodes are simply modular programs that can act on data, and pass information between each other. See the diagram on the [Offical ROS2 Docs](https://docs.ros.org/en/jazzy/Tutorials/Beginner-CLI-Tools/Understanding-ROS2-Nodes/Understanding-ROS2-Nodes.html) for a visual animation of information being passed between nodes.\n",
    "\n",
    "In the Turtlesim exercise, you worked with two nodes: the turtlesim itself, and the teleop keyboard controller. In that system, the Turtlesim keeps track of all the turtles, and moves them according to data it recieves from the keyboard controller.\n",
    "\n",
    "![TurtleNode.png](../MEDIA/TurtleNode.png)\n",
    "\n",
    "As you can see, `teleop_turtle` (the keyboard node) sends data to `turtlesim` about the speed that it wants turtle1 to move at (`turtle1/cmd_vel`).\n",
    "\n",
    "Then, `turtlesim` sends data back about the status of `rotate_absolute` actions. Try it out now! Launch the turtlesim and turtle_teleop_key nodes, and monitor info passed between them with `ros2 topic echo /turtle1/cmd_vel`."
   ]
  },
  {
   "cell_type": "code",
   "execution_count": null,
   "metadata": {
    "vscode": {
     "languageId": "shellscript"
    }
   },
   "outputs": [],
   "source": [
    "!ros2 run turtlesim turtlesim_node"
   ]
  },
  {
   "cell_type": "markdown",
   "metadata": {
    "vscode": {
     "languageId": "shellscript"
    }
   },
   "source": [
    "Run this in a separate terminal, not in Jupyter! You will not be able to input keypresses.\n",
    "```bash\n",
    "ros2 run turtlesim turtle_teleop_key\n",
    "```"
   ]
  },
  {
   "cell_type": "code",
   "execution_count": null,
   "metadata": {
    "vscode": {
     "languageId": "shellscript"
    }
   },
   "outputs": [],
   "source": [
    "!ros2 topic echo /turtle1/cmd_vel\n",
    "# You may also want to run this in a separate terminal, so you can see all your latest output"
   ]
  },
  {
   "cell_type": "markdown",
   "metadata": {},
   "source": [
    "## "
   ]
  },
  {
   "cell_type": "markdown",
   "metadata": {},
   "source": [
    "## Types of Connections\n",
    "\n",
    "As we saw in the node graph, nodes are connected together to show how they transfer information together. In this tutorial, we'll be covering 3 types of connections.\n",
    "\n",
    "1. [Topics](https://docs.ros.org/en/jazzy/Tutorials/Beginner-CLI-Tools/Understanding-ROS2-Topics/Understanding-ROS2-Topics.html) (Publisher/Subscribers)\n",
    "2. [Services](https://docs.ros.org/en/jazzy/Tutorials/Beginner-CLI-Tools/Understanding-ROS2-Services/Understanding-ROS2-Services.html) (Server/Client)\n",
    "3. [Actions](https://docs.ros.org/en/jazzy/Tutorials/Beginner-CLI-Tools/Understanding-ROS2-Actions/Understanding-ROS2-Actions.html) (Action Server/Client)\n",
    "\n",
    "Now that we know what nodes are and how they interact with each other, lets write our own!"
   ]
  },
  {
   "cell_type": "markdown",
   "metadata": {
    "vscode": {
     "languageId": "shellscript"
    }
   },
   "source": [
    "## Writing A Node\n",
    "\n",
    "To write ROS2 Nodes in python, we will be using the [rclpy](https://github.com/ros2/rclpy) python library.\n",
    "\n",
    "The first thing we need to do, as always, is enter our workspace and make a package."
   ]
  },
  {
   "cell_type": "code",
   "execution_count": null,
   "metadata": {
    "vscode": {
     "languageId": "shellscript"
    }
   },
   "outputs": [],
   "source": [
    "# Initialize your workspace variables\n",
    "workspace = '/home/ubuntu/learn_ros_ws'\n",
    "%cd $workspace\n",
    "package_name = 'basic_nodes'"
   ]
  },
  {
   "cell_type": "code",
   "execution_count": null,
   "metadata": {
    "vscode": {
     "languageId": "shellscript"
    }
   },
   "outputs": [],
   "source": [
    "%%bash --no-raise-error -s \"$package_name\"\n",
    "cd src\n",
    "\n",
    "# Create a package\n",
    "ros2 pkg create --build-type ament_python $1 --node-name subscriber_node"
   ]
  },
  {
   "cell_type": "markdown",
   "metadata": {},
   "source": [
    "Great! Now we have a package for you to work in. Let's look at default the node it autofilled with, the `orphan_node`.\n",
    "\n",
    "```python\n",
    "def main():\n",
    "    print('Hi from basic_nodes.')\n",
    "\n",
    "\n",
    "if __name__ == '__main__':\n",
    "    main()\n",
    "```\n",
    "\n",
    "It's just a main function with a print statement! Remember, each node is simply a program, and the ROS2 part is how it talks to other programs.\n",
    "\n",
    "You can build and run this node with the following commands:"
   ]
  },
  {
   "cell_type": "code",
   "execution_count": null,
   "metadata": {
    "vscode": {
     "languageId": "shellscript"
    }
   },
   "outputs": [],
   "source": [
    "%%bash --no-raise-error\n",
    "\n",
    "colcon build --packages-select basic_nodes\n",
    "source install/local_setup.bash\n",
    "ros2 run basic_nodes subscriber_node"
   ]
  },
  {
   "cell_type": "markdown",
   "metadata": {},
   "source": [
    "Now that we have a basic node setup, lets make it take some information!\n",
    "\n",
    "## Subscribers\n",
    "\n",
    "A subscriber subscribes to a topic. Whenever data is sent over that topic, all subscribers who are listening will recieve the data. See the graphics on [the official ROS2 docs](https://docs.ros.org/en/jazzy/Tutorials/Beginner-CLI-Tools/Understanding-ROS2-Topics/Understanding-ROS2-Topics.html#id1) for more info.\n",
    "\n",
    "Let's modify our basic node to subscribe to a topic. We're going to make it so that whenever a string is sent to that topic, our base node will add an exclaimation point!"
   ]
  },
  {
   "cell_type": "code",
   "execution_count": null,
   "metadata": {},
   "outputs": [],
   "source": [
    "%%writefile src/basic_nodes/basic_nodes/subscriber_node.py\n",
    "\n",
    "# Import everything we need: the rclpy library, rclpy nodes, and ros2 strings.\n",
    "import rclpy\n",
    "from rclpy.node import Node\n",
    "from std_msgs.msg import String\n",
    "\n",
    "\n",
    "class MySubscriber(Node):\n",
    "    def __init__(self):\n",
    "        super().__init__('subscriber_node')\n",
    "        self.create_subscription(String, 'boring_strings', self.subscriber_callback, 10)\n",
    "    \n",
    "    def subscriber_callback(self, msg):\n",
    "        print(msg.data + '!')\n",
    "        \n",
    "    \n",
    "\n",
    "def main(args=None):\n",
    "    rclpy.init(args=args)\n",
    "    subscriber = MySubscriber()\n",
    "    rclpy.spin(subscriber)\n",
    "    print('Hi from basic_nodes.')\n",
    "\n",
    "\n",
    "if __name__ == '__main__':\n",
    "    main()"
   ]
  },
  {
   "cell_type": "markdown",
   "metadata": {},
   "source": [
    "Notice how we used a callback function to subscribe to the function. Everytime we recieve some data, the callback function runs. Try running it! When we run the node, it won't finish since its always listening for messages. Send a message in your terminal using the following command:\n",
    "\n",
    "```bash\n",
    "ros2 topic pub /boring_strings std_msgs/msg/String 'data: Hello, world' -1\n",
    "```\n",
    "\n",
    "Its general form is: `ros2 topic pub <topic> <msg_type> <data> -1`\n",
    "\n",
    "The `-1` means to publish once, instead of in a loop."
   ]
  },
  {
   "cell_type": "code",
   "execution_count": null,
   "metadata": {
    "vscode": {
     "languageId": "shellscript"
    }
   },
   "outputs": [],
   "source": [
    "%%bash --no-raise-error\n",
    "\n",
    "colcon build --packages-select basic_nodes\n",
    "source install/local_setup.bash\n",
    "ros2 run basic_nodes subscriber_node"
   ]
  },
  {
   "cell_type": "markdown",
   "metadata": {},
   "source": [
    "You should see `Hello, world` printed every time you publish to the topic!\n",
    "\n",
    "You can subscribe to a topic with multiple nodes at once. Let's modify our `subscriber_node` to take a parameter."
   ]
  },
  {
   "cell_type": "code",
   "execution_count": null,
   "metadata": {},
   "outputs": [],
   "source": [
    "%%writefile src/basic_nodes/basic_nodes/subscriber_node.py\n",
    "\n",
    "# Import everything we need: the rclpy library, rclpy nodes, and ros2 strings.\n",
    "import rclpy\n",
    "from rclpy.node import Node\n",
    "from std_msgs.msg import String\n",
    "\n",
    "\n",
    "class MySubscriber(Node):\n",
    "    def __init__(self):\n",
    "        super().__init__('subscriber_node')\n",
    "        \n",
    "        self.create_subscription(String, 'boring_strings', self.subscriber_callback, 10)\n",
    "        self.declare_parameter('punctuation', '.')\n",
    "    \n",
    "    def subscriber_callback(self, msg):\n",
    "        print(msg.data + self.get_parameter_or('punctuation', '.').value)\n",
    "        \n",
    "    \n",
    "\n",
    "def main(args=None):\n",
    "    rclpy.init(args=args)\n",
    "    subscriber = MySubscriber()\n",
    "    rclpy.spin(subscriber)\n",
    "    print('Hi from basic_nodes.')\n",
    "\n",
    "\n",
    "if __name__ == '__main__':\n",
    "    main()\n"
   ]
  },
  {
   "cell_type": "code",
   "execution_count": null,
   "metadata": {
    "vscode": {
     "languageId": "shellscript"
    }
   },
   "outputs": [],
   "source": [
    "%%bash --no-raise-error\n",
    "\n",
    "colcon build --packages-select basic_nodes\n",
    "source install/local_setup.bash\n",
    "ros2 run basic_nodes subscriber_node --ros-args -p punctuation:=\\\"\\!\\\"\n",
    "# We need to escape the exclaimation mark and its quotes; don't worry too much about the backslashes."
   ]
  },
  {
   "cell_type": "markdown",
   "metadata": {},
   "source": [
    "Try running a second node, with a question mark as punctuation instead! (Remember to surround it with escaped quotation marks.) Then, run the same command as earlier to send a message to the `/boring_strings` topic and see what happens at each node.\n",
    "\n",
    "```bash\n",
    "ros2 topic pub /boring_strings std_msgs/msg/String 'data: Hello, world' -1\n",
    "```"
   ]
  },
  {
   "cell_type": "markdown",
   "metadata": {},
   "source": [
    "## Publishers"
   ]
  },
  {
   "cell_type": "markdown",
   "metadata": {},
   "source": [
    "If we had to sit around all day and type in messages to publish to our nodes, ROS wouldn't be very useful. We can make a publisher node to do this for us!\n",
    "\n",
    "Now, let's create something to send messages. Create a new file in your `basic_nodes` package, and put in similar code to the `basic_node`. Call it `publisher_node.py`, and put the following code into it:"
   ]
  },
  {
   "cell_type": "code",
   "execution_count": null,
   "metadata": {},
   "outputs": [],
   "source": [
    "\n",
    "# Import everything we need: the rclpy library, rclpy nodes, and ros2 strings.\n",
    "import rclpy\n",
    "from rclpy.node import Node\n",
    "from std_msgs.msg import String\n",
    "\n",
    "\n",
    "class MyPublisher(Node):\n",
    "    def __init__(self):\n",
    "        super().__init__('publisher_node')\n",
    "        \n",
    "        self.my_publisher = self.create_publisher(String, 'boring_strings', 10)\n",
    "        self.create_timer(0.5, self.timer_callback)\n",
    "        \n",
    "    def timer_callback(self):\n",
    "        msg = String()\n",
    "        msg.data = \"Hello, world\"\n",
    "        self.my_publisher.publish(msg)\n",
    "        \n",
    "    \n",
    "\n",
    "def main(args=None):\n",
    "    print('Starting publisher node...')\n",
    "    rclpy.init(args=args)\n",
    "    publisher = MyPublisher()\n",
    "    rclpy.spin(publisher)\n",
    "\n",
    "\n",
    "if __name__ == '__main__':\n",
    "    main()"
   ]
  },
  {
   "cell_type": "markdown",
   "metadata": {},
   "source": [
    "Every time we add a new node, we also need to tell ROS2 that it exists and how to start it! We can do that by adding it to the `setup.py` file"
   ]
  },
  {
   "cell_type": "code",
   "execution_count": null,
   "metadata": {},
   "outputs": [],
   "source": [
    "%%writefile src/basic_nodes/setup.py\n",
    "\n",
    "from setuptools import find_packages, setup\n",
    "\n",
    "package_name = 'basic_nodes'\n",
    "\n",
    "setup(\n",
    "    name=package_name,\n",
    "    version='0.0.0',\n",
    "    packages=find_packages(exclude=['test']),\n",
    "    data_files=[\n",
    "        ('share/ament_index/resource_index/packages',\n",
    "            ['resource/' + package_name]),\n",
    "        ('share/' + package_name, ['package.xml']),\n",
    "    ],\n",
    "    install_requires=['setuptools'],\n",
    "    zip_safe=True,\n",
    "    maintainer='root',\n",
    "    maintainer_email='your_email_here@example.com',\n",
    "    description='TODO: Package description',\n",
    "    license='TODO: License declaration',\n",
    "    tests_require=['pytest'],\n",
    "    entry_points={\n",
    "        'console_scripts': [\n",
    "            'subscriber_node = basic_nodes.subscriber_node:main',\n",
    "            'publisher_node = basic_nodes.publisher_node:main' # This line! Don't forget the comma.\n",
    "        ],\n",
    "    },\n",
    ")"
   ]
  },
  {
   "cell_type": "markdown",
   "metadata": {},
   "source": [
    "And run it..."
   ]
  },
  {
   "cell_type": "code",
   "execution_count": null,
   "metadata": {
    "vscode": {
     "languageId": "shellscript"
    }
   },
   "outputs": [],
   "source": [
    "%%bash --no-raise-error\n",
    "\n",
    "colcon build --packages-select basic_nodes\n",
    "source install/local_setup.bash\n",
    "ros2 run basic_nodes publisher_node"
   ]
  },
  {
   "cell_type": "markdown",
   "metadata": {
    "vscode": {
     "languageId": "shellscript"
    }
   },
   "source": [
    "Now, in another terminal, listen to your publisher node using:\n",
    "\n",
    "```bash\n",
    "ros2 topic echo /boring_strings\n",
    "```\n",
    "Where `/boring_strings` is the topic you want to \"echo,\" or print into the terminal.\n",
    "\n",
    "You should see your data being printed!\n",
    "\n",
    "Then, instead of echoing the topic, you can run your subscriber node. Run the command from before to start your subscriber node:\n",
    "\n",
    "```bash\n",
    "ros2 run basic_nodes subscriber_node --ros-args -p punctuation:=\\\"\\!\\\"\n",
    "```"
   ]
  },
  {
   "cell_type": "markdown",
   "metadata": {},
   "source": [
    "## Activity\n",
    "\n",
    "Now that you can write scripts using topics, we can write to the same topics that turtlesim uses to control a turtle automatically!\n",
    "\n",
    "The goal of this activity will be to move the turtle back and forth from one end of the screen to the other. TODO add gif showing that\n",
    "\n",
    "By running `rqt`, we can see the topics that are part of `turtle1`.\n",
    "\n",
    "![Topics](../MEDIA/TurtleTopics.png)\n",
    "\n",
    "Specifically, we are interested in `/turtle1/cmd_vel` and `/turtle1/pose`. We can control the turtle by publishing to `cmd_vel` and get information about by subscribing to `pose`.\n",
    "\n",
    "Let's make a new package to work in:"
   ]
  },
  {
   "cell_type": "code",
   "execution_count": null,
   "metadata": {
    "vscode": {
     "languageId": "shellscript"
    }
   },
   "outputs": [],
   "source": [
    "# Initialize your workspace variables\n",
    "workspace = '/home/ubuntu/learn_ros_ws'\n",
    "%cd $workspace\n",
    "package_name = 'learn_ros_activities'"
   ]
  },
  {
   "cell_type": "code",
   "execution_count": null,
   "metadata": {
    "vscode": {
     "languageId": "shellscript"
    }
   },
   "outputs": [],
   "source": [
    "%%bash --no-raise-error -s \"$package_name\"\n",
    "cd src\n",
    "\n",
    "# Create a package\n",
    "ros2 pkg create --build-type ament_python $1"
   ]
  },
  {
   "cell_type": "markdown",
   "metadata": {},
   "source": [
    "And here's a template for a node with both a subscriber and a publisher."
   ]
  },
  {
   "cell_type": "code",
   "execution_count": null,
   "metadata": {},
   "outputs": [],
   "source": [
    "import rclpy\n",
    "from rclpy.node import Node\n",
    "from geometry_msgs.msg import Twist\n",
    "from turtlesim.msg import Pose\n",
    "\n",
    "\n",
    "class RightLeftNode(Node):\n",
    "    def __init__(self):\n",
    "        super().__init__('right_left_node')\n",
    "        \n",
    "        self.x_position = 0.0 # Set this in the pose_callback. Make sure it's a float by\n",
    "                              # adding the decimal point, otherwise you'll run into type errors.\n",
    "        self.going_right = False # Use this for your velocity logic\n",
    "        \n",
    "        # Edit this line: What topic do you want to subscribe to?\n",
    "        self.pose_subscriber = self.create_subscription(Pose, '/turtle1/topic_to_subscribe_to', self.pose_callback, 10)\n",
    "        \n",
    "        # Edit this line: What topic do you want to publish to?\n",
    "        self.velocity_publisher = self.create_publisher(Twist, '/turtle1/topic_to_publish_to', 10)\n",
    "        \n",
    "        self.create_timer(1, self.publish_velocity)\n",
    "        \n",
    "    def pose_callback(self, msg: Pose):\n",
    "        # The type of `msg` is a turtlesim Pose. To get the x position of pose, do:\n",
    "        # `msg.x` Store it into self.x_position.\n",
    "        pass # your code here\n",
    "        \n",
    "    \n",
    "    def publish_velocity(self):\n",
    "        # cmdvel accepts a Twist: A message with both a linear and angular component.\n",
    "        # For this activity, we only care about linear motion in the x axis.\n",
    "        # You can set that like: `msg.linear.x = 1`\n",
    "        msg = Twist()\n",
    "        \n",
    "        # Put your logic here. How can you access the current position of the turtle?\n",
    "        # Switch to going right (bigger x) when x is less than 1, and switch to going\n",
    "        # left (smaller x) when x is greater than 10\n",
    "        pass\n",
    "            \n",
    "        # publish your node\n",
    "        pass\n",
    "        \n",
    "    \n",
    "\n",
    "def main(args=None):\n",
    "    print('Starting right-left node...')\n",
    "    rclpy.init(args=args)\n",
    "    publisher = RightLeftNode()\n",
    "    rclpy.spin(publisher)\n",
    "\n",
    "\n",
    "if __name__ == '__main__':\n",
    "    main()\n"
   ]
  },
  {
   "cell_type": "markdown",
   "metadata": {},
   "source": [
    "Fill out the template! When you're done, run `turtlesim_node` and your `rightleft` node.\n",
    "\n",
    "Don't forget to add an entry point to your setup.py!\n",
    "\n",
    "```python\n",
    "    # ...\n",
    "    entry_points={\n",
    "        'console_scripts': [\n",
    "            'right_left_node = learn_ros_activities.rightleft_node:main',\n",
    "        ],\n",
    "    },\n",
    "```"
   ]
  },
  {
   "cell_type": "code",
   "execution_count": null,
   "metadata": {
    "vscode": {
     "languageId": "shellscript"
    }
   },
   "outputs": [],
   "source": [
    "%%bash --no-raise-error -s \"$package_name\"\n",
    "\n",
    "colcon build --packages-select $1\n",
    "source install/local_setup.bash\n",
    "ros2 run learn_ros_activities right_left_node & ros2 run turtlesim turtlesim_node"
   ]
  },
  {
   "cell_type": "code",
   "execution_count": 13,
   "metadata": {
    "tags": [
     "remove-input"
    ]
   },
   "outputs": [
    {
     "data": {
      "text/html": [
       "<div id=\"fEgLyiWaSdtf\" data-shufflequestions=\"False\"\n",
       "               data-shuffleanswers=\"True\"\n",
       "               data-preserveresponses=\"false\"\n",
       "               data-numquestions=\"1000000\"\n",
       "               data-maxwidth=\"600\"\n",
       "               style=\"border-radius: 10px; text-align: left\"> <style>\n",
       "#fEgLyiWaSdtf {\n",
       "   --jq-multiple-choice-bg: #345995;\n",
       "   --jq-mc-button-bg: #fafafa;\n",
       "   --jq-mc-button-border: #e0e0e0e0;\n",
       "   --jq-mc-button-inset-shadow: #555555;\n",
       "   --jq-many-choice-bg: #e26d5a;\n",
       "   --jq-numeric-bg: #5bc0eb;\n",
       "   --jq-numeric-input-bg: #c0c0c0;\n",
       "   --jq-numeric-input-label: #101010;\n",
       "   --jq-numeric-input-shadow: #999999;\n",
       "   --jq-incorrect-color: #666666;\n",
       "   --jq-correct-color: #87a878;\n",
       "   --jq-text-color: #fafafa;\n",
       "}\n",
       "\n",
       ".Quiz {\n",
       "    max-width: 600px;\n",
       "    margin-top: 15px;\n",
       "    margin-left: auto;\n",
       "    margin-right: auto;\n",
       "/*    margin-bottom: 15px;*/\n",
       "/*    padding-bottom: 4px;*/\n",
       "    padding-top: 4px;\n",
       "    line-height: 1.1;\n",
       "    font-size: 16pt;\n",
       "    border-radius: inherit;\n",
       "}\n",
       "\n",
       ".QuizCode {\n",
       "    font-size: 14pt;\n",
       "    margin-top: 10px;\n",
       "    margin-left: 20px;\n",
       "    margin-right: 20px;\n",
       "}\n",
       "\n",
       ".QuizCode>pre {\n",
       "    padding: 4px;\n",
       "}\n",
       "\n",
       ".Quiz code {\n",
       "    background-color: lightgray;\n",
       "    color: black;\n",
       "}\n",
       "\n",
       ".Quiz .QuizCode code {\n",
       "    background-color: inherit;\n",
       "    color: inherit;\n",
       "}\n",
       "\n",
       "\n",
       ".Quiz .MCButton code {\n",
       "    background-color: inherit;\n",
       "    color: inherit;\n",
       "}\n",
       "\n",
       ".MCButton .QuizCode {\n",
       "    text-align: left;\n",
       "}\n",
       "\n",
       "\n",
       "\n",
       "\n",
       ".Answer {\n",
       "    border-radius: inherit;\n",
       "    display: grid;\n",
       "    grid-gap: 10px;\n",
       "    grid-template-columns: 1fr 1fr;\n",
       "    margin: 10px 0;\n",
       "}\n",
       "\n",
       "@media only screen and (max-width:480px) {\n",
       "    .Answer {\n",
       "        grid-template-columns: 1fr;\n",
       "    }\n",
       "\n",
       "}\n",
       "\n",
       ".Feedback {\n",
       "    font-size: 16pt;\n",
       "    text-align: center;\n",
       "/*    min-height: 2em;*/\n",
       "}\n",
       "\n",
       ".Input {\n",
       "    align: left;\n",
       "    font-size: 20pt;\n",
       "}\n",
       "\n",
       ".Input-text {\n",
       "    display: block;\n",
       "    margin: 10px;\n",
       "    color: inherit;\n",
       "    width: 140px;\n",
       "    background-color: var(--jq-numeric-input-bg);\n",
       "    color: var(--jq-text-color);\n",
       "    padding: 5px;\n",
       "    padding-left: 10px;\n",
       "    font-family: inherit;\n",
       "    font-size: 20px;\n",
       "    font-weight: inherit;\n",
       "    line-height: 20pt;\n",
       "    border: none;\n",
       "    border-radius: 0.2rem;\n",
       "    transition: box-shadow 0.1s);\n",
       "}\n",
       "\n",
       ".Input-text:focus {\n",
       "    /*outline: none;*/\n",
       "    background-color: var(--jq-numeric-input-bg);\n",
       "    box-shadow: 0.6rem 0.8rem 1.4rem -0.5rem var(--jq-numeric-input-shadow);\n",
       "}\n",
       "\n",
       ".MCButton {\n",
       "    background: var(--jq-mc-button-bg);\n",
       "    border: 1px solid var(--jq-mc-button-border);\n",
       "    border-radius: inherit;\n",
       "    color: #333333;\n",
       "    padding: 10px;\n",
       "    font-size: 16px;\n",
       "    cursor: pointer;\n",
       "    text-align: center;\n",
       "    display: flex;\n",
       "    align-items: center;\n",
       "    justify-content: center;\n",
       "}\n",
       "\n",
       ".MCButton p {\n",
       "    color: inherit;\n",
       "}\n",
       "\n",
       ".MultipleChoiceQn {\n",
       "    padding: 10px;\n",
       "    background: var(--jq-multiple-choice-bg);\n",
       "    color: var(--jq-text-color);\n",
       "    border-radius: inherit;\n",
       "}\n",
       "\n",
       ".ManyChoiceQn {\n",
       "    padding: 10px;\n",
       "    background: var(--jq-many-choice-bg);\n",
       "    color: var(--jq-text-color);\n",
       "    border-radius: inherit;\n",
       "}\n",
       "\n",
       ".NumericQn {\n",
       "    background: var(--jq-numeric-bg);\n",
       "    border-radius: inherit;\n",
       "    color: var(--jq-text-color);\n",
       "    padding: 10px;\n",
       "}\n",
       "\n",
       ".NumericQn p {\n",
       "    color: inherit;\n",
       "}\n",
       "\n",
       ".InpLabel {\n",
       "    color: var(--jq-numeric-input-label);\n",
       "    float: left;\n",
       "    font-size: 15pt;\n",
       "    line-height: 34px;\n",
       "    margin-right: 10px;\n",
       "}\n",
       "\n",
       ".incorrect {\n",
       "    color: var(--jq-incorrect-color);\n",
       "}\n",
       "\n",
       ".correct {\n",
       "    color: var(--jq-correct-color);\n",
       "}\n",
       "\n",
       ".correctButton {\n",
       "    /*\n",
       "    background: var(--jq-correct-color);\n",
       "   */\n",
       "    animation: correct-anim 0.6s ease;\n",
       "    animation-fill-mode: forwards;\n",
       "    box-shadow: inset 0 0 5px var(--jq-mc-button-inset-shadow);\n",
       "    color: var(--jq-text-color);\n",
       "    /*outline: none;*/\n",
       "}\n",
       "\n",
       ".incorrectButton {\n",
       "    animation: incorrect-anim 0.8s ease;\n",
       "    animation-fill-mode: forwards;\n",
       "    box-shadow: inset 0 0 5px var(--jq-mc-button-inset-shadow);\n",
       "    color: var(--jq-text-color);\n",
       "    /*outline: none;*/\n",
       "}\n",
       "\n",
       "@keyframes incorrect-anim {\n",
       "    100% {\n",
       "        background-color: var(--jq-incorrect-color);\n",
       "    }\n",
       "}\n",
       "\n",
       "@keyframes correct-anim {\n",
       "    100% {\n",
       "        background-color: var(--jq-correct-color);\n",
       "    }\n",
       "}\n",
       "</style>"
      ],
      "text/plain": [
       "<IPython.core.display.HTML object>"
      ]
     },
     "metadata": {},
     "output_type": "display_data"
    },
    {
     "data": {
      "application/javascript": "var questionsfEgLyiWaSdtf=[\n    {\n        \"question\": \"What topic did you subscribe to?\",\n        \"type\": \"multiple_choice\",\n        \"answers\": [\n            {\n                \"code\": \"/turtle1/cmd_vel\",\n                \"correct\": false,\n                \"feedback\": \"cmd_vel is where we send messages to make the turtle move. Subscribers can only read data, so this doesn't make sense.\"\n            },\n            {\n                \"code\": \"/turtle1/color_sensor\",\n                \"correct\": false,\n                \"feedback\": \"color_sensor is an output, but we aren't using it for this activity. It can't tell you anything about the position of the turtle.\"\n            },\n            {\n                \"code\": \"/turtle1/pose\",\n                \"correct\": true,\n                \"feedback\": \"Turtlesim will constantly publish the pose of all of its turtles over this topic, so we use the subscriber to listen in!\"\n            }\n        ]\n    },\n    {\n        \"question\": \"What message type did the subscription receive?\",\n        \"type\": \"multiple_choice\",\n        \"answers\": [\n            {\n                \"code\": \"geometry_msgs/msg/Point\",\n                \"correct\": false,\n                \"feedback\": \"The Point message doesn't contain any information about the rotation of our turtle. Look carefully at the `create_subscription` line. What is the first parameter?\"\n            },\n            {\n                \"code\": \"geometry_msg/msg/Pose\",\n                \"correct\": false,\n                \"feedback\": \"Look carefully at the import statements at the top of the file. Where do we import Pose from?\"\n            },\n            {\n                \"code\": \"geometry_msgs/msg/Transform\",\n                \"correct\": false,\n                \"feedback\": \"The Transform message is often used for representing a distance between two points. Look carefully at the `create_subscription` line. What is the first parameter?\"\n            },\n            {\n                \"code\": \"turtlesim/msg/Pose\",\n                \"correct\": true,\n                \"feedback\": \"This is the type that we imported and used in our `create_subscription` line. Often, you will use the basic messages in geometry_msgs/msg because they are general and ensure compatibility between nodes from different places, but turtlesim uses its own Pose to simplify things. You can always check what message a topic has by running `ros2 topic type full_topic_path`, and you can see more info about a message by running `ros2 interface show <full_msg_name>`.\"\n            }\n        ]\n    },\n    {\n        \"question\": \"What topic did you publish to?\",\n        \"type\": \"multiple_choice\",\n        \"answers\": [\n            {\n                \"code\": \"/turtle1/cmd_vel\",\n                \"correct\": true,\n                \"feedback\": \"cmd_vel is where we send messages, or velocity commands, to make the turtle move.\"\n            },\n            {\n                \"code\": \"/turtle1/color_sensor\",\n                \"correct\": false\n            },\n            {\n                \"code\": \"/turtle1/pose\",\n                \"correct\": false\n            }\n        ]\n    },\n    {\n        \"question\": \"What message type did the publisher send out?\",\n        \"type\": \"multiple_choice\",\n        \"answers\": [\n            {\n                \"code\": \"turtlesim/msg/Pose\",\n                \"correct\": false,\n                \"feedback\": \"Turtlesim doesn't accept Poses as an input. Look carefully at the `create_publisher` line. What is the first parameter?\"\n            },\n            {\n                \"code\": \"geometry_msgs/msg/Accel\",\n                \"correct\": false,\n                \"feedback\": \"Look carefully at the `create_publisher` line. What is the first parameter?\"\n            },\n            {\n                \"code\": \"geometry_msgs/msg/Twist\",\n                \"correct\": true,\n                \"feedback\": \"A Twist is the standard way of representing velocity, including both linear and angular velocity.\"\n            },\n            {\n                \"code\": \"geometry_msgs/msg/Transform\",\n                \"correct\": false,\n                \"feedback\": \"Look carefully at the `create_publisher` line. What is the first parameter?\"\n            }\n        ]\n    },\n    {\n        \"question\": \"What does the `create_timer` function do?\",\n        \"type\": \"multiple_choice\",\n        \"answers\": [\n            {\n                \"answer\": \"After 1 second, run the `publish_velocity` callback\",\n                \"correct\": false\n            },\n            {\n                \"answer\": \"Every 1 second, run the `publish_velocity` callback\",\n                \"correct\": true\n            },\n            {\n                \"answer\": \"Nothing; the node will finish running and quit before the timer runs\",\n                \"correct\": false,\n                \"feedback\": \"The `spin` function you see in the main function will keep the node running until we tell it to stop! Callbacks like `pose_callback` and `publish_velocity` are used so that we can run them after specific events, like the timer going off, without using an infinite loop.\"\n            }\n        ]\n    }\n];\n    // Make a random ID\nfunction makeid(length) {\n    var result = [];\n    var characters = 'ABCDEFGHIJKLMNOPQRSTUVWXYZabcdefghijklmnopqrstuvwxyz';\n    var charactersLength = characters.length;\n    for (var i = 0; i < length; i++) {\n        result.push(characters.charAt(Math.floor(Math.random() * charactersLength)));\n    }\n    return result.join('');\n}\n\n// Choose a random subset of an array. Can also be used to shuffle the array\nfunction getRandomSubarray(arr, size) {\n    var shuffled = arr.slice(0), i = arr.length, temp, index;\n    while (i--) {\n        index = Math.floor((i + 1) * Math.random());\n        temp = shuffled[index];\n        shuffled[index] = shuffled[i];\n        shuffled[i] = temp;\n    }\n    return shuffled.slice(0, size);\n}\n\nfunction printResponses(responsesContainer) {\n    var responses=JSON.parse(responsesContainer.dataset.responses);\n    var stringResponses='<B>IMPORTANT!</B>To preserve this answer sequence for submission, when you have finalized your answers: <ol> <li> Copy the text in this cell below \"Answer String\"</li> <li> Double click on the cell directly below the Answer String, labeled \"Replace Me\"</li> <li> Select the whole \"Replace Me\" text</li> <li> Paste in your answer string and press shift-Enter.</li><li>Save the notebook using the save icon or File->Save Notebook menu item</li></ul><br><br><br><b>Answer String:</b><br> ';\n    console.log(responses);\n    responses.forEach((response, index) => {\n        if (response) {\n            console.log(index + ': ' + response);\n            stringResponses+= index + ': ' + response +\"<BR>\";\n        }\n    });\n    responsesContainer.innerHTML=stringResponses;\n}\n/* Callback function to determine whether a selected multiple-choice\n   button corresponded to a correct answer and to provide feedback\n   based on the answer */\nfunction check_mc() {\n    var id = this.id.split('-')[0];\n    //var response = this.id.split('-')[1];\n    //console.log(response);\n    //console.log(\"In check_mc(), id=\"+id);\n    //console.log(event.srcElement.id)           \n    //console.log(event.srcElement.dataset.correct)   \n    //console.log(event.srcElement.dataset.feedback)\n\n    var label = event.srcElement;\n    //console.log(label, label.nodeName);\n    var depth = 0;\n    while ((label.nodeName != \"LABEL\") && (depth < 20)) {\n        label = label.parentElement;\n        console.log(depth, label);\n        depth++;\n    }\n\n\n\n    var answers = label.parentElement.children;\n    //console.log(answers);\n\n    // Split behavior based on multiple choice vs many choice:\n    var fb = document.getElementById(\"fb\" + id);\n\n\n\n    /* Multiple choice (1 answer). Allow for 0 correct\n       answers as an edge case */\n    if (fb.dataset.numcorrect <= 1) {\n        // What follows is for the saved responses stuff\n        var outerContainer = fb.parentElement.parentElement;\n        var responsesContainer = document.getElementById(\"responses\" + outerContainer.id);\n        if (responsesContainer) {\n            //console.log(responsesContainer);\n            var response = label.firstChild.innerText;\n            if (label.querySelector(\".QuizCode\")){\n                response+= label.querySelector(\".QuizCode\").firstChild.innerText;\n            }\n            console.log(response);\n            //console.log(document.getElementById(\"quizWrap\"+id));\n            var qnum = document.getElementById(\"quizWrap\"+id).dataset.qnum;\n            console.log(\"Question \" + qnum);\n            //console.log(id, \", got numcorrect=\",fb.dataset.numcorrect);\n            var responses=JSON.parse(responsesContainer.dataset.responses);\n            console.log(responses);\n            responses[qnum]= response;\n            responsesContainer.setAttribute('data-responses', JSON.stringify(responses));\n            printResponses(responsesContainer);\n        }\n        // End code to preserve responses\n\n        for (var i = 0; i < answers.length; i++) {\n            var child = answers[i];\n            //console.log(child);\n            child.className = \"MCButton\";\n        }\n\n\n\n        if (label.dataset.correct == \"true\") {\n            // console.log(\"Correct action\");\n            if (\"feedback\" in label.dataset) {\n                fb.innerHTML = jaxify(label.dataset.feedback);\n            } else {\n                fb.innerHTML = \"Correct!\";\n            }\n            label.classList.add(\"correctButton\");\n\n            fb.className = \"Feedback\";\n            fb.classList.add(\"correct\");\n\n        } else {\n            if (\"feedback\" in label.dataset) {\n                fb.innerHTML = jaxify(label.dataset.feedback);\n            } else {\n                fb.innerHTML = \"Incorrect -- try again.\";\n            }\n            //console.log(\"Error action\");\n            label.classList.add(\"incorrectButton\");\n            fb.className = \"Feedback\";\n            fb.classList.add(\"incorrect\");\n        }\n    }\n    else { /* Many choice (more than 1 correct answer) */\n        var reset = false;\n        var feedback;\n         if (label.dataset.correct == \"true\") {\n            if (\"feedback\" in label.dataset) {\n                feedback = jaxify(label.dataset.feedback);\n            } else {\n                feedback = \"Correct!\";\n            }\n            if (label.dataset.answered <= 0) {\n                if (fb.dataset.answeredcorrect < 0) {\n                    fb.dataset.answeredcorrect = 1;\n                    reset = true;\n                } else {\n                    fb.dataset.answeredcorrect++;\n                }\n                if (reset) {\n                    for (var i = 0; i < answers.length; i++) {\n                        var child = answers[i];\n                        child.className = \"MCButton\";\n                        child.dataset.answered = 0;\n                    }\n                }\n                label.classList.add(\"correctButton\");\n                label.dataset.answered = 1;\n                fb.className = \"Feedback\";\n                fb.classList.add(\"correct\");\n\n            }\n        } else {\n            if (\"feedback\" in label.dataset) {\n                feedback = jaxify(label.dataset.feedback);\n            } else {\n                feedback = \"Incorrect -- try again.\";\n            }\n            if (fb.dataset.answeredcorrect > 0) {\n                fb.dataset.answeredcorrect = -1;\n                reset = true;\n            } else {\n                fb.dataset.answeredcorrect--;\n            }\n\n            if (reset) {\n                for (var i = 0; i < answers.length; i++) {\n                    var child = answers[i];\n                    child.className = \"MCButton\";\n                    child.dataset.answered = 0;\n                }\n            }\n            label.classList.add(\"incorrectButton\");\n            fb.className = \"Feedback\";\n            fb.classList.add(\"incorrect\");\n        }\n        // What follows is for the saved responses stuff\n        var outerContainer = fb.parentElement.parentElement;\n        var responsesContainer = document.getElementById(\"responses\" + outerContainer.id);\n        if (responsesContainer) {\n            //console.log(responsesContainer);\n            var response = label.firstChild.innerText;\n            if (label.querySelector(\".QuizCode\")){\n                response+= label.querySelector(\".QuizCode\").firstChild.innerText;\n            }\n            console.log(response);\n            //console.log(document.getElementById(\"quizWrap\"+id));\n            var qnum = document.getElementById(\"quizWrap\"+id).dataset.qnum;\n            console.log(\"Question \" + qnum);\n            //console.log(id, \", got numcorrect=\",fb.dataset.numcorrect);\n            var responses=JSON.parse(responsesContainer.dataset.responses);\n            if (label.dataset.correct == \"true\") {\n                if (typeof(responses[qnum]) == \"object\"){\n                    if (!responses[qnum].includes(response))\n                        responses[qnum].push(response);\n                } else{\n                    responses[qnum]= [ response ];\n                }\n            } else {\n                responses[qnum]= response;\n            }\n            console.log(responses);\n            responsesContainer.setAttribute('data-responses', JSON.stringify(responses));\n            printResponses(responsesContainer);\n        }\n        // End save responses stuff\n\n\n\n        var numcorrect = fb.dataset.numcorrect;\n        var answeredcorrect = fb.dataset.answeredcorrect;\n        if (answeredcorrect >= 0) {\n            fb.innerHTML = feedback + \" [\" + answeredcorrect + \"/\" + numcorrect + \"]\";\n        } else {\n            fb.innerHTML = feedback + \" [\" + 0 + \"/\" + numcorrect + \"]\";\n        }\n\n\n    }\n\n    if (typeof MathJax != 'undefined') {\n        var version = MathJax.version;\n        console.log('MathJax version', version);\n        if (version[0] == \"2\") {\n            MathJax.Hub.Queue([\"Typeset\", MathJax.Hub]);\n        } else if (version[0] == \"3\") {\n            MathJax.typeset([fb]);\n        }\n    } else {\n        console.log('MathJax not detected');\n    }\n\n}\n\n\n/* Function to produce the HTML buttons for a multiple choice/\n   many choice question  and to update the CSS tags based on\n   the question type */\nfunction make_mc(qa, shuffle_answers, outerqDiv, qDiv, aDiv, id) {\n\n    var shuffled;\n    if (shuffle_answers == \"True\") {\n        //console.log(shuffle_answers+\" read as true\");\n        shuffled = getRandomSubarray(qa.answers, qa.answers.length);\n    } else {\n        //console.log(shuffle_answers+\" read as false\");\n        shuffled = qa.answers;\n    }\n\n\n    var num_correct = 0;\n\n    shuffled.forEach((item, index, ans_array) => {\n        //console.log(answer);\n\n        // Make input element\n        var inp = document.createElement(\"input\");\n        inp.type = \"radio\";\n        inp.id = \"quizo\" + id + index;\n        inp.style = \"display:none;\";\n        aDiv.append(inp);\n\n        //Make label for input element\n        var lab = document.createElement(\"label\");\n        lab.className = \"MCButton\";\n        lab.id = id + '-' + index;\n        lab.onclick = check_mc;\n        var aSpan = document.createElement('span');\n        aSpan.classsName = \"\";\n        //qDiv.id=\"quizQn\"+id+index;\n        if (\"answer\" in item) {\n            aSpan.innerHTML = jaxify(item.answer);\n            //aSpan.innerHTML=item.answer;\n        }\n        lab.append(aSpan);\n\n        // Create div for code inside question\n        var codeSpan;\n        if (\"code\" in item) {\n            codeSpan = document.createElement('span');\n            codeSpan.id = \"code\" + id + index;\n            codeSpan.className = \"QuizCode\";\n            var codePre = document.createElement('pre');\n            codeSpan.append(codePre);\n            var codeCode = document.createElement('code');\n            codePre.append(codeCode);\n            codeCode.innerHTML = item.code;\n            lab.append(codeSpan);\n            //console.log(codeSpan);\n        }\n\n        //lab.textContent=item.answer;\n\n        // Set the data attributes for the answer\n        lab.setAttribute('data-correct', item.correct);\n        if (item.correct) {\n            num_correct++;\n        }\n        if (\"feedback\" in item) {\n            lab.setAttribute('data-feedback', item.feedback);\n        }\n        lab.setAttribute('data-answered', 0);\n\n        aDiv.append(lab);\n\n    });\n\n    if (num_correct > 1) {\n        outerqDiv.className = \"ManyChoiceQn\";\n    } else {\n        outerqDiv.className = \"MultipleChoiceQn\";\n    }\n\n    return num_correct;\n\n}\nfunction check_numeric(ths, event) {\n\n    if (event.keyCode === 13) {\n        ths.blur();\n\n        var id = ths.id.split('-')[0];\n\n        var submission = ths.value;\n        if (submission.indexOf('/') != -1) {\n            var sub_parts = submission.split('/');\n            //console.log(sub_parts);\n            submission = sub_parts[0] / sub_parts[1];\n        }\n        //console.log(\"Reader entered\", submission);\n\n        if (\"precision\" in ths.dataset) {\n            var precision = ths.dataset.precision;\n            submission = Number(Number(submission).toPrecision(precision));\n        }\n\n\n        //console.log(\"In check_numeric(), id=\"+id);\n        //console.log(event.srcElement.id)           \n        //console.log(event.srcElement.dataset.feedback)\n\n        var fb = document.getElementById(\"fb\" + id);\n        fb.style.display = \"none\";\n        fb.innerHTML = \"Incorrect -- try again.\";\n\n        var answers = JSON.parse(ths.dataset.answers);\n        //console.log(answers);\n\n        var defaultFB = \"Incorrect. Try again.\";\n        var correct;\n        var done = false;\n        answers.every(answer => {\n            //console.log(answer.type);\n\n            correct = false;\n            // if (answer.type==\"value\"){\n            if ('value' in answer) {\n                if (submission == answer.value) {\n                    if (\"feedback\" in answer) {\n                        fb.innerHTML = jaxify(answer.feedback);\n                    } else {\n                        fb.innerHTML = jaxify(\"Correct\");\n                    }\n                    correct = answer.correct;\n                    //console.log(answer.correct);\n                    done = true;\n                }\n                // } else if (answer.type==\"range\") {\n            } else if ('range' in answer) {\n                console.log(answer.range);\n                console.log(submission, submission >=answer.range[0], submission < answer.range[1])\n                if ((submission >= answer.range[0]) && (submission < answer.range[1])) {\n                    fb.innerHTML = jaxify(answer.feedback);\n                    correct = answer.correct;\n                    console.log(answer.correct);\n                    done = true;\n                }\n            } else if (answer.type == \"default\") {\n                if (\"feedback\" in answer) {\n                    defaultFB = answer.feedback;\n                } \n            }\n            if (done) {\n                return false; // Break out of loop if this has been marked correct\n            } else {\n                return true; // Keep looking for case that includes this as a correct answer\n            }\n        });\n        console.log(\"done:\", done);\n\n        if ((!done) && (defaultFB != \"\")) {\n            fb.innerHTML = jaxify(defaultFB);\n            //console.log(\"Default feedback\", defaultFB);\n        }\n\n        fb.style.display = \"block\";\n        if (correct) {\n            ths.className = \"Input-text\";\n            ths.classList.add(\"correctButton\");\n            fb.className = \"Feedback\";\n            fb.classList.add(\"correct\");\n        } else {\n            ths.className = \"Input-text\";\n            ths.classList.add(\"incorrectButton\");\n            fb.className = \"Feedback\";\n            fb.classList.add(\"incorrect\");\n        }\n\n        // What follows is for the saved responses stuff\n        var outerContainer = fb.parentElement.parentElement;\n        var responsesContainer = document.getElementById(\"responses\" + outerContainer.id);\n        if (responsesContainer) {\n            console.log(submission);\n            var qnum = document.getElementById(\"quizWrap\"+id).dataset.qnum;\n            //console.log(\"Question \" + qnum);\n            //console.log(id, \", got numcorrect=\",fb.dataset.numcorrect);\n            var responses=JSON.parse(responsesContainer.dataset.responses);\n            console.log(responses);\n            if (submission == ths.value){\n                responses[qnum]= submission;\n            } else {\n                responses[qnum]= ths.value + \"(\" + submission +\")\";\n            }\n            responsesContainer.setAttribute('data-responses', JSON.stringify(responses));\n            printResponses(responsesContainer);\n        }\n        // End code to preserve responses\n\n        if (typeof MathJax != 'undefined') {\n            var version = MathJax.version;\n            console.log('MathJax version', version);\n            if (version[0] == \"2\") {\n                MathJax.Hub.Queue([\"Typeset\", MathJax.Hub]);\n            } else if (version[0] == \"3\") {\n                MathJax.typeset([fb]);\n            }\n        } else {\n            console.log('MathJax not detected');\n        }\n        return false;\n    }\n\n}\n\nfunction isValid(el, charC) {\n    //console.log(\"Input char: \", charC);\n    if (charC == 46) {\n        if (el.value.indexOf('.') === -1) {\n            return true;\n        } else if (el.value.indexOf('/') != -1) {\n            var parts = el.value.split('/');\n            if (parts[1].indexOf('.') === -1) {\n                return true;\n            }\n        }\n        else {\n            return false;\n        }\n    } else if (charC == 47) {\n        if (el.value.indexOf('/') === -1) {\n            if ((el.value != \"\") && (el.value != \".\")) {\n                return true;\n            } else {\n                return false;\n            }\n        } else {\n            return false;\n        }\n    } else if (charC == 45) {\n        var edex = el.value.indexOf('e');\n        if (edex == -1) {\n            edex = el.value.indexOf('E');\n        }\n\n        if (el.value == \"\") {\n            return true;\n        } else if (edex == (el.value.length - 1)) { // If just after e or E\n            return true;\n        } else {\n            return false;\n        }\n    } else if (charC == 101) { // \"e\"\n        if ((el.value.indexOf('e') === -1) && (el.value.indexOf('E') === -1) && (el.value.indexOf('/') == -1)) {\n            // Prev symbol must be digit or decimal point:\n            if (el.value.slice(-1).search(/\\d/) >= 0) {\n                return true;\n            } else if (el.value.slice(-1).search(/\\./) >= 0) {\n                return true;\n            } else {\n                return false;\n            }\n        } else {\n            return false;\n        }\n    } else {\n        if (charC > 31 && (charC < 48 || charC > 57))\n            return false;\n    }\n    return true;\n}\n\nfunction numeric_keypress(evnt) {\n    var charC = (evnt.which) ? evnt.which : evnt.keyCode;\n\n    if (charC == 13) {\n        check_numeric(this, evnt);\n    } else {\n        return isValid(this, charC);\n    }\n}\n\n\n\n\n\nfunction make_numeric(qa, outerqDiv, qDiv, aDiv, id) {\n\n\n\n    //console.log(answer);\n\n\n    outerqDiv.className = \"NumericQn\";\n    aDiv.style.display = 'block';\n\n    var lab = document.createElement(\"label\");\n    lab.className = \"InpLabel\";\n    lab.innerHTML = \"Type numeric answer here:\";\n    aDiv.append(lab);\n\n    var inp = document.createElement(\"input\");\n    inp.type = \"text\";\n    //inp.id=\"input-\"+id;\n    inp.id = id + \"-0\";\n    inp.className = \"Input-text\";\n    inp.setAttribute('data-answers', JSON.stringify(qa.answers));\n    if (\"precision\" in qa) {\n        inp.setAttribute('data-precision', qa.precision);\n    }\n    aDiv.append(inp);\n    //console.log(inp);\n\n    //inp.addEventListener(\"keypress\", check_numeric);\n    //inp.addEventListener(\"keypress\", numeric_keypress);\n    /*\n    inp.addEventListener(\"keypress\", function(event) {\n        return numeric_keypress(this, event);\n    }\n                        );\n                        */\n    //inp.onkeypress=\"return numeric_keypress(this, event)\";\n    inp.onkeypress = numeric_keypress;\n    inp.onpaste = event => false;\n\n    inp.addEventListener(\"focus\", function (event) {\n        this.value = \"\";\n        return false;\n    }\n    );\n\n\n}\nfunction jaxify(string) {\n    var mystring = string;\n\n    var count = 0;\n    var loc = mystring.search(/([^\\\\]|^)(\\$)/);\n\n    var count2 = 0;\n    var loc2 = mystring.search(/([^\\\\]|^)(\\$\\$)/);\n\n    //console.log(loc);\n\n    while ((loc >= 0) || (loc2 >= 0)) {\n\n        /* Have to replace all the double $$ first with current implementation */\n        if (loc2 >= 0) {\n            if (count2 % 2 == 0) {\n                mystring = mystring.replace(/([^\\\\]|^)(\\$\\$)/, \"$1\\\\[\");\n            } else {\n                mystring = mystring.replace(/([^\\\\]|^)(\\$\\$)/, \"$1\\\\]\");\n            }\n            count2++;\n        } else {\n            if (count % 2 == 0) {\n                mystring = mystring.replace(/([^\\\\]|^)(\\$)/, \"$1\\\\(\");\n            } else {\n                mystring = mystring.replace(/([^\\\\]|^)(\\$)/, \"$1\\\\)\");\n            }\n            count++;\n        }\n        loc = mystring.search(/([^\\\\]|^)(\\$)/);\n        loc2 = mystring.search(/([^\\\\]|^)(\\$\\$)/);\n        //console.log(mystring,\", loc:\",loc,\", loc2:\",loc2);\n    }\n\n    // repace markdown style links with actual links\n    mystring = mystring.replace(/<(.*?)>/, '<a href=\"$1\" target=\"_blank\" class=\"Link\">$1</a>');\n    mystring = mystring.replace(/\\[(.*?)\\]\\((.*?)\\)/, '<a href=\"$2\" target=\"_blank\" class=\"Link\">$1</a>');\n\n    //console.log(mystring);\n    return mystring;\n}\n\n\nfunction show_questions(json, mydiv) {\n    console.log('show_questions');\n    //var mydiv=document.getElementById(myid);\n    var shuffle_questions = mydiv.dataset.shufflequestions;\n    var num_questions = mydiv.dataset.numquestions;\n    var shuffle_answers = mydiv.dataset.shuffleanswers;\n    var max_width = mydiv.dataset.maxwidth;\n\n    if (num_questions > json.length) {\n        num_questions = json.length;\n    }\n\n    var questions;\n    if ((num_questions < json.length) || (shuffle_questions == \"True\")) {\n        //console.log(num_questions+\",\"+json.length);\n        questions = getRandomSubarray(json, num_questions);\n    } else {\n        questions = json;\n    }\n\n    //console.log(\"SQ: \"+shuffle_questions+\", NQ: \" + num_questions + \", SA: \", shuffle_answers);\n\n    // Iterate over questions\n    questions.forEach((qa, index, array) => {\n        //console.log(qa.question); \n\n        var id = makeid(8);\n        //console.log(id);\n\n\n        // Create Div to contain question and answers\n        var iDiv = document.createElement('div');\n        //iDiv.id = 'quizWrap' + id + index;\n        iDiv.id = 'quizWrap' + id;\n        iDiv.className = 'Quiz';\n        iDiv.setAttribute('data-qnum', index);\n        iDiv.style.maxWidth  =max_width+\"px\";\n        mydiv.appendChild(iDiv);\n        // iDiv.innerHTML=qa.question;\n        \n        var outerqDiv = document.createElement('div');\n        outerqDiv.id = \"OuterquizQn\" + id + index;\n        // Create div to contain question part\n        var qDiv = document.createElement('div');\n        qDiv.id = \"quizQn\" + id + index;\n        \n        if (qa.question) {\n            iDiv.append(outerqDiv);\n\n            //qDiv.textContent=qa.question;\n            qDiv.innerHTML = jaxify(qa.question);\n            outerqDiv.append(qDiv);\n        }\n\n        // Create div for code inside question\n        var codeDiv;\n        if (\"code\" in qa) {\n            codeDiv = document.createElement('div');\n            codeDiv.id = \"code\" + id + index;\n            codeDiv.className = \"QuizCode\";\n            var codePre = document.createElement('pre');\n            codeDiv.append(codePre);\n            var codeCode = document.createElement('code');\n            codePre.append(codeCode);\n            codeCode.innerHTML = qa.code;\n            outerqDiv.append(codeDiv);\n            //console.log(codeDiv);\n        }\n\n\n        // Create div to contain answer part\n        var aDiv = document.createElement('div');\n        aDiv.id = \"quizAns\" + id + index;\n        aDiv.className = 'Answer';\n        iDiv.append(aDiv);\n\n        //console.log(qa.type);\n\n        var num_correct;\n        if ((qa.type == \"multiple_choice\") || (qa.type == \"many_choice\") ) {\n            num_correct = make_mc(qa, shuffle_answers, outerqDiv, qDiv, aDiv, id);\n            if (\"answer_cols\" in qa) {\n                //aDiv.style.gridTemplateColumns = 'auto '.repeat(qa.answer_cols);\n                aDiv.style.gridTemplateColumns = 'repeat(' + qa.answer_cols + ', 1fr)';\n            }\n        } else if (qa.type == \"numeric\") {\n            //console.log(\"numeric\");\n            make_numeric(qa, outerqDiv, qDiv, aDiv, id);\n        }\n\n\n        //Make div for feedback\n        var fb = document.createElement(\"div\");\n        fb.id = \"fb\" + id;\n        //fb.style=\"font-size: 20px;text-align:center;\";\n        fb.className = \"Feedback\";\n        fb.setAttribute(\"data-answeredcorrect\", 0);\n        fb.setAttribute(\"data-numcorrect\", num_correct);\n        iDiv.append(fb);\n\n\n    });\n    var preserveResponses = mydiv.dataset.preserveresponses;\n    console.log(preserveResponses);\n    console.log(preserveResponses == \"true\");\n    if (preserveResponses == \"true\") {\n        console.log(preserveResponses);\n        // Create Div to contain record of answers\n        var iDiv = document.createElement('div');\n        iDiv.id = 'responses' + mydiv.id;\n        iDiv.className = 'JCResponses';\n        // Create a place to store responses as an empty array\n        iDiv.setAttribute('data-responses', '[]');\n\n        // Dummy Text\n        iDiv.innerHTML=\"<b>Select your answers and then follow the directions that will appear here.</b>\"\n        //iDiv.className = 'Quiz';\n        mydiv.appendChild(iDiv);\n    }\n//console.log(\"At end of show_questions\");\n    if (typeof MathJax != 'undefined') {\n        console.log(\"MathJax version\", MathJax.version);\n        var version = MathJax.version;\n        setTimeout(function(){\n            var version = MathJax.version;\n            console.log('After sleep, MathJax version', version);\n            if (version[0] == \"2\") {\n                MathJax.Hub.Queue([\"Typeset\", MathJax.Hub]);\n            } else if (version[0] == \"3\") {\n                if (MathJax.hasOwnProperty('typeset') ) {\n                    MathJax.typeset([mydiv]);\n                } else {\n                    console.log('WARNING: Trying to force load MathJax 3');\n                    window.MathJax = {\n                        tex: {\n                            inlineMath: [['$', '$'], ['\\\\(', '\\\\)']]\n                        },\n                        svg: {\n                            fontCache: 'global'\n                        }\n                    };\n\n                    (function () {\n                        var script = document.createElement('script');\n                        script.src = 'https://cdn.jsdelivr.net/npm/mathjax@3/es5/tex-svg.js';\n                        script.async = true;\n                        document.head.appendChild(script);\n                    })();\n                }\n            }\n        }, 500);\nif (typeof version == 'undefined') {\n        } else\n        {\n            if (version[0] == \"2\") {\n                MathJax.Hub.Queue([\"Typeset\", MathJax.Hub]);\n            } else if (version[0] == \"3\") {\n                if (MathJax.hasOwnProperty('typeset') ) {\n                    MathJax.typeset([mydiv]);\n                } else {\n                    console.log('WARNING: Trying to force load MathJax 3');\n                    window.MathJax = {\n                        tex: {\n                            inlineMath: [['$', '$'], ['\\\\(', '\\\\)']]\n                        },\n                        svg: {\n                            fontCache: 'global'\n                        }\n                    };\n\n                    (function () {\n                        var script = document.createElement('script');\n                        script.src = 'https://cdn.jsdelivr.net/npm/mathjax@3/es5/tex-svg.js';\n                        script.async = true;\n                        document.head.appendChild(script);\n                    })();\n                }\n            } else {\n                console.log(\"MathJax not found\");\n            }\n        }\n    }\n\n    // stop event propagation for the .Link class\n    var links = document.getElementsByClassName('Link')\n    for (var i = 0; i < links.length; i++) {\n        links[i].addEventListener('click', function(e){\n            e.stopPropagation();\n        });\n    }\n\n    return false;\n}\n/* This is to handle asynchrony issues in loading Jupyter notebooks\n           where the quiz has been previously run. The Javascript was generally\n           being run before the div was added to the DOM. I tried to do this\n           more elegantly using Mutation Observer, but I didn't get it to work.\n\n           Someone more knowledgeable could make this better ;-) */\n\n        function try_show() {\n          if(document.getElementById(\"fEgLyiWaSdtf\")) {\n            show_questions(questionsfEgLyiWaSdtf,  fEgLyiWaSdtf); \n          } else {\n             setTimeout(try_show, 200);\n          }\n        };\n    \n        {\n        // console.log(element);\n\n        //console.log(\"fEgLyiWaSdtf\");\n        // console.log(document.getElementById(\"fEgLyiWaSdtf\"));\n\n        try_show();\n        }\n        ",
      "text/plain": [
       "<IPython.core.display.Javascript object>"
      ]
     },
     "metadata": {},
     "output_type": "display_data"
    }
   ],
   "source": [
    "from jupyterquiz import display_quiz\n",
    "quiz_file = \"ch06_quiz1.json\"\n",
    "display_quiz(\"../../../jupyter_quiz/CH06/\" + quiz_file, colors = \"fdsp\")"
   ]
  }
 ],
 "metadata": {
  "kernelspec": {
   "display_name": "venv",
   "language": "python",
   "name": "python3"
  },
  "language_info": {
   "codemirror_mode": {
    "name": "ipython",
    "version": 3
   },
   "file_extension": ".py",
   "mimetype": "text/x-python",
   "name": "python",
   "nbconvert_exporter": "python",
   "pygments_lexer": "ipython3",
   "version": "3.12.8"
  }
 },
 "nbformat": 4,
 "nbformat_minor": 2
}
