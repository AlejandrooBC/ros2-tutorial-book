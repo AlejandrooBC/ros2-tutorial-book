{
 "cells": [
  {
   "cell_type": "markdown",
   "id": "855076956fe37506",
   "metadata": {},
   "source": [
    "# Nodes and Topics"
   ]
  },
  {
   "cell_type": "markdown",
   "id": "c4a71d4ae6a42eda",
   "metadata": {},
   "source": [
    "In the introduction to this chapter we stated that nodes are independent processes that perform specific computations.\n",
    "\n",
    "A more intuitive approach would be to think about ROS nodes as the **individual members that make up a group working together to complete a task**. In this case, the group is a robot.\n",
    "\n",
    "In this team, each member (node) has a specific job, such as driving, observing, or making decisions, just as **each node** in ROS has a specific task to handle.\n",
    "\n",
    "Each team member works **independently** but can communicate with others to share information or request help. Similarly, a **node is an independent unit/process/executable** that runs separately from other nodes but can **send and receive messages**."
   ]
  },
  {
   "cell_type": "markdown",
   "id": "6dfc8ded2364ea6b",
   "metadata": {},
   "source": [
    "## How and Why to Use Nodes in ROS2"
   ]
  },
  {
   "cell_type": "markdown",
   "id": "b1603aa4b8b5a8ba",
   "metadata": {},
   "source": [
    "The official ROS2 site suggests that \"each node should be responsible for a singular, modular purpose.\" This makes the code for a robotic system more flexible, scalable, and easier to maintain and reuse.\n",
    "\n",
    "For example, one node could be responsible for collecting sensor data (such distance data from a LiDAR sensor), another node could be responsible for processing that data, and another node could be used for controlling the motors."
   ]
  },
  {
   "cell_type": "markdown",
   "id": "8ffa0c53ddbb137f",
   "metadata": {},
   "source": [
    "![ROS2 Program Nodes](../../../MEDIA/Nodes_Diagram.gif)\n",
    "**ROS2 Node Graph (Courtesy of ROS2 Documentation)**"
   ]
  },
  {
   "cell_type": "markdown",
   "id": "3ac042a177288d",
   "metadata": {},
   "source": [
    "In this way, nodes enable **parallel processing**, allowing different tasks to run independently, promoting modularity and reusability in different projects."
   ]
  },
  {
   "cell_type": "markdown",
   "id": "debf4b70d51d7dc3",
   "metadata": {},
   "source": [
    "## Communication Between Nodes"
   ]
  },
  {
   "cell_type": "markdown",
   "id": "c116a2c5f1334ed7",
   "metadata": {},
   "source": [
    "As you have seen in the example above, nodes do not operate in isolation. They communicate with each other using topics, services, and actions. These concepts will be covered further in the following sections."
   ]
  },
  {
   "cell_type": "markdown",
   "id": "318492bdad080afd",
   "metadata": {},
   "source": [
    "First, it's important to understand how information is transmitted between nodes using **messages**."
   ]
  },
  {
   "cell_type": "markdown",
   "id": "77832fce41e97f49",
   "metadata": {},
   "source": [
    "Messages are the building blocks of communication in ROS2. They are the primary mechanism by which nodes exchange information. A message is a structured data format that contains specific fields for data values, allowing nodes to share information in a consistent and standardized way."
   ]
  },
  {
   "cell_type": "markdown",
   "id": "53e5b708e6a44a5c",
   "metadata": {},
   "source": [
    "For example, a message could contain:\n",
    "- A single value (such as a temperature reading).\n",
    "- Multiple fields (such as a point in 3D space represented by X, Y, and Z coordinates).\n",
    "- Complex nested structures (such as data about a robot's position and orientation)."
   ]
  },
  {
   "cell_type": "markdown",
   "id": "90dbc3921b2241b7",
   "metadata": {},
   "source": [
    "The structure of a message is defined in its **.msg** file. These files describe the types and format of the data in a message. For instance, a message could contain the following:"
   ]
  },
  {
   "cell_type": "code",
   "execution_count": null,
   "id": "f63ea4ecbf68c525",
   "metadata": {},
   "outputs": [],
   "source": [
    "int64 x\n",
    "int64 y\n",
    "int64 z"
   ]
  },
  {
   "cell_type": "markdown",
   "id": "5305193a7aecd08b",
   "metadata": {},
   "source": [
    "The above **.msg** file defines a message with three fields: X, Y, and Z, all of type int64."
   ]
  },
  {
   "cell_type": "markdown",
   "id": "3f5302ad707ef4ad",
   "metadata": {},
   "source": [
    "## Topics and Messages"
   ]
  },
  {
   "cell_type": "markdown",
   "id": "31d401478944b4d7",
   "metadata": {},
   "source": [
    "When a node wants to send data, it **publishes** a message to a **topic**. Other nodes that need this data will **subscribe** to the same topic to receive the messages."
   ]
  },
  {
   "cell_type": "markdown",
   "id": "d1df0ea8bca5f0bd",
   "metadata": {},
   "source": [
    "![LIDAR NODES](../../../MEDIA/LIDAR_Nodes.png)\n",
    "**Nodes Communicating via Topics - Spring 2024 Capstone Team**"
   ]
  },
  {
   "cell_type": "markdown",
   "id": "344afbdb28e7aa2b",
   "metadata": {},
   "source": [
    "The example image above depicts the logical flow of a program designed to **control a LiDAR sensor**. The program executes three key tasks: scanning the environment to gather data, processing that data, and making decisions based on it.\n",
    "\n",
    "The process hinges on two primary nodes:\n",
    "1. **SLLIDAR NODE**\n",
    "The **SLLIDAR** node interfaces directly with the physical LiDAR sensor, collecting raw sensor data. It then processes this data into structured information formatted as **scan messages**. These messages are subsequently published to a topic named **/scan** (represented in the diagram as a rectangular block labeled \"/scan\"). This enables other nodes to access the processed scan data.\n",
    "\n",
    "2. **LIDAR NODE**\n",
    "The **LIDAR NODE** subscribes to the **/scan topic**, receiving the published scan messages. It further processes this information to interpret the scanned environment. Based on the analysis, the **LIDAR node** sends commands to another topic, enabling the robot to take specific actions or make decisions.\n",
    "\n",
    "As you have just seen, this communication structure facilitates a modular approach to robotics programming, where nodes operate independently while sharing information through topics."
   ]
  },
  {
   "cell_type": "markdown",
   "id": "3e8a9a363fb7fb5d",
   "metadata": {},
   "source": [
    "## Best Practices for Nodes"
   ]
  },
  {
   "cell_type": "markdown",
   "id": "86cc89650389ad9a",
   "metadata": {},
   "source": [
    "Now that you have a fundamental understanding of nodes, topics, and messages, you can begin to explore how to structure and implement your own nodes effectively.\n",
    "\n",
    "It is important to keep in mind that writing nodes is more than just getting them to work; it is about ensuring they are **efficient**, **reliable**, and **easy to maintain**. In the following sections of this book, you will be guided through writing ROS nodes. As you do so, it is best to keep in mind a few good practices that will help you build scalable and modular systems:\n",
    "\n",
    "**1. Design Nodes with Clear Responsibilities**: Avoid overloading a single node with too many tasks. If your program involves several functionalities working together (as most programs do), divide the subsections of the program into executable components that can be handled by separate nodes.<br><br>\n",
    "\n",
    "**2. Write Reusable and Scalable Code**: Ensure your nodes can be adapted to new features or systems.<br><br>\n",
    "\n",
    "**3. Effective Debugging**: Write your nodes to provide meaningful feedback during development and runtime.<br><br>\n",
    "\n",
    "**4. Use Parameters and Configuration Files**: Make your nodes flexible without modifying code for different use cases.\n",
    "\n",
    "By adhering to these principles, you will not only create functional nodes, but also build a foundation for robotic systems that are easier to troubleshoot, extend, and collaborate on with others."
   ]
  }
 ],
 "metadata": {
  "kernelspec": {
   "display_name": "Python 3",
   "language": "python",
   "name": "python3"
  },
  "language_info": {
   "codemirror_mode": {
    "name": "ipython",
    "version": 2
   },
   "file_extension": ".py",
   "mimetype": "text/x-python",
   "name": "python",
   "nbconvert_exporter": "python",
   "pygments_lexer": "ipython2",
   "version": "2.7.6"
  }
 },
 "nbformat": 4,
 "nbformat_minor": 5
}
