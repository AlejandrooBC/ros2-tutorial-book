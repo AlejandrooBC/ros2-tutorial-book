{
 "cells": [
  {
   "metadata": {},
   "cell_type": "markdown",
   "source": "# Nodes",
   "id": "855076956fe37506"
  },
  {
   "metadata": {},
   "cell_type": "markdown",
   "source": [
    "In the introduction to this chapter we stated that nodes are independent processes that perform specific computations.\n",
    "\n",
    "A more intuitive approach would be to think about ROS nodes as the **individual members that make up a group working together to complete a task**. In this case, the group is a robot.\n",
    "\n",
    "In this team, each member (node) has a specific job, such as driving, observing, or making decisions, just as **each node** in ROS has a specific task to handle.\n",
    "\n",
    "Each team member works **independently** but can communicate with others to share information or request help. Similarly, a **node is an independent unit/process/executable** that runs separately from other nodes but can **send and receive messages**."
   ],
   "id": "c4a71d4ae6a42eda"
  },
  {
   "metadata": {},
   "cell_type": "markdown",
   "source": "## How and Why to Use Nodes in ROS2",
   "id": "6dfc8ded2364ea6b"
  },
  {
   "metadata": {},
   "cell_type": "markdown",
   "source": [
    "The official ROS2 site suggests that \"each node should be responsible for a singular, modular purpose.\" This makes the code for a robotic system more flexible, scalable, and easier to maintain and reuse.\n",
    "\n",
    "For example, one node could be responsible for collecting sensor data (such distance data from a LiDAR sensor), another node could be responsible for processing that data, and another node could be used for controlling the motors."
   ],
   "id": "b1603aa4b8b5a8ba"
  },
  {
   "metadata": {},
   "cell_type": "markdown",
   "source": [
    "![ROS2 Program Nodes](../../MEDIA/Nodes_Diagram.gif)\n",
    "**ROS2 Node Graph (Courtesy of ROS2 Documentation)**"
   ],
   "id": "8ffa0c53ddbb137f"
  },
  {
   "metadata": {},
   "cell_type": "markdown",
   "source": "In this way, nodes enable **parallel processing**, allowing different tasks to run independently, promoting modularity and reusability in different projects.",
   "id": "3ac042a177288d"
  },
  {
   "metadata": {},
   "cell_type": "markdown",
   "source": "## Communication Between Nodes",
   "id": "debf4b70d51d7dc3"
  },
  {
   "metadata": {},
   "cell_type": "markdown",
   "source": "As you have seen in the example above, nodes do not operate in isolation. They communicate with each other using topics, services, and actions. These concepts will be covered further in the following sections.",
   "id": "c116a2c5f1334ed7"
  },
  {
   "metadata": {},
   "cell_type": "markdown",
   "source": "First, it's important to understand how information is transmitted between nodes using **messages**.",
   "id": "318492bdad080afd"
  },
  {
   "metadata": {},
   "cell_type": "markdown",
   "source": "Messages are the building blocks of communication in ROS2.",
   "id": "77832fce41e97f49"
  }
 ],
 "metadata": {
  "kernelspec": {
   "display_name": "Python 3",
   "language": "python",
   "name": "python3"
  },
  "language_info": {
   "codemirror_mode": {
    "name": "ipython",
    "version": 2
   },
   "file_extension": ".py",
   "mimetype": "text/x-python",
   "name": "python",
   "nbconvert_exporter": "python",
   "pygments_lexer": "ipython2",
   "version": "2.7.6"
  }
 },
 "nbformat": 4,
 "nbformat_minor": 5
}
