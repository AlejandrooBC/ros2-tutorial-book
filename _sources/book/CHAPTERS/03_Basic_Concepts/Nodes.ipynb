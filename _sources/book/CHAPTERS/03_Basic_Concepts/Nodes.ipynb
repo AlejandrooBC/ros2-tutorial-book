{
 "cells": [
  {
   "metadata": {},
   "cell_type": "markdown",
   "source": "# Nodes",
   "id": "855076956fe37506"
  },
  {
   "metadata": {},
   "cell_type": "markdown",
   "source": [
    "In the introduction to this chapter we stated that nodes are independent processes that perform specific computations.\n",
    "\n",
    "A more intuitive approach would be to think about ROS nodes as the **individual members that make up a group working together to complete a task**. In this case, the group is a robot.\n",
    "\n",
    "In this team, each member (node) has a specific job, such as driving, observing, or making decisions, just as **each node** in ROS has a specific task to handle.\n",
    "\n",
    "Each team member works **independently** but can communicate with others to share information or request help. Similarly, a **node is an independent unit/process/executable** that runs separately from other nodes but can **send and receive messages**."
   ],
   "id": "c4a71d4ae6a42eda"
  },
  {
   "metadata": {},
   "cell_type": "markdown",
   "source": "## How and Why to Use Nodes in ROS2",
   "id": "6dfc8ded2364ea6b"
  },
  {
   "metadata": {},
   "cell_type": "markdown",
   "source": [
    "The official ROS2 site suggests that \"each node should be responsible for a singular, modular purpose.\" This makes the code for a robotic system more flexible, scalable, and easier to maintain and reuse.\n",
    "\n",
    "For example, one node could be responsible for collecting sensor data (such distance data from a LiDAR sensor), another node could be responsible for processing that data, and another node could be used for controlling the motors."
   ],
   "id": "b1603aa4b8b5a8ba"
  },
  {
   "metadata": {},
   "cell_type": "markdown",
   "source": [
    "![ROS2 Program Nodes](../../MEDIA/Nodes_Diagram.gif)\n",
    "**ROS2 Node Graph (Courtesy of ROS2 Documentation)**"
   ],
   "id": "8ffa0c53ddbb137f"
  },
  {
   "metadata": {},
   "cell_type": "markdown",
   "source": "In this way, nodes enable **parallel processing**, allowing different tasks to run independently, promoting modularity and reusability in different projects.",
   "id": "3ac042a177288d"
  },
  {
   "metadata": {},
   "cell_type": "markdown",
   "source": "## Communication Between Nodes",
   "id": "debf4b70d51d7dc3"
  },
  {
   "metadata": {},
   "cell_type": "markdown",
   "source": "As you have seen in the example above, nodes do not operate in isolation. They communicate with each other using topics, services, and actions. These concepts will be covered further in the following sections.",
   "id": "c116a2c5f1334ed7"
  },
  {
   "metadata": {},
   "cell_type": "markdown",
   "source": "First, it's important to understand how information is transmitted between nodes using **messages**.",
   "id": "318492bdad080afd"
  },
  {
   "metadata": {},
   "cell_type": "markdown",
   "source": "Messages are the building blocks of communication in ROS2. They are the primary mechanism by which nodes exchange information. A message is a structured data format that contains specific fields for data values, allowing nodes to share information in a consistent and standardized way.",
   "id": "77832fce41e97f49"
  },
  {
   "metadata": {},
   "cell_type": "markdown",
   "source": [
    "For example, a message could contain:\n",
    "- A single value (such as a temperature reading).\n",
    "- Multiple fields (such as a point in 3D space represented by X, Y, and Z coordinates).\n",
    "- Complex nested structures (such as data about a robot's position and orientation)."
   ],
   "id": "53e5b708e6a44a5c"
  },
  {
   "metadata": {},
   "cell_type": "markdown",
   "source": "The structure of a message is defined in its **.msg** file. These files describe the types and format of the data in a message. For instance, a message could contain the following:",
   "id": "90dbc3921b2241b7"
  },
  {
   "metadata": {},
   "cell_type": "code",
   "outputs": [],
   "execution_count": null,
   "source": [
    "int64 x\n",
    "int64 y\n",
    "int64 z"
   ],
   "id": "f63ea4ecbf68c525"
  },
  {
   "metadata": {},
   "cell_type": "markdown",
   "source": "The above **.msg** file defines a message with three fields: X, Y, and Z, all of type int64.",
   "id": "5305193a7aecd08b"
  },
  {
   "metadata": {},
   "cell_type": "markdown",
   "source": "## Topics and Messages",
   "id": "3f5302ad707ef4ad"
  },
  {
   "metadata": {},
   "cell_type": "markdown",
   "source": "When a node wants to send data, it **publishes** a message to a **topic**. Other nodes that need this data will **subscribe** to the same topic to receive the messages.",
   "id": "31d401478944b4d7"
  },
  {
   "metadata": {},
   "cell_type": "markdown",
   "source": [
    "![LIDAR NODES](../../MEDIA/LIDAR_Nodes.png)\n",
    "**Nodes Communicating via Topics - Spring 2024 Capstone Team**"
   ],
   "id": "d1df0ea8bca5f0bd"
  },
  {
   "metadata": {},
   "cell_type": "markdown",
   "source": [
    "The example image above depicts the logical flow of a program designed to **control a LiDAR sensor**. The program executes three key tasks: scanning the environment to gather data, processing that data, and making decisions based on it.\n",
    "\n",
    "The process hinges on two primary nodes:\n",
    "1. **SLLIDAR NODE**\n",
    "The **SLLIDAR** node interfaces directly with the physical LiDAR sensor, collecting raw sensor data. It then processes this data into structured information formatted as **scan messages**. These messages are subsequently published to a topic named **/scan** (represented in the diagram as a rectangular block labeled \"/scan\"). This enables other nodes to access the processed scan data.\n",
    "\n",
    "2. **LIDAR NODE**\n",
    "The **LIDAR NODE** subscribes to the **/scan topic**, receiving the published scan messages. It further processes this information to interpret the scanned environment. Based on the analysis, the **LIDAR node** sends commands to another topic, enabling the robot to take specific actions or make decisions.\n",
    "\n",
    "As you have just seen, this communication structure facilitates a modular approach to robotics programming, where nodes operate independently while sharing information through topics."
   ],
   "id": "344afbdb28e7aa2b"
  }
 ],
 "metadata": {
  "kernelspec": {
   "display_name": "Python 3",
   "language": "python",
   "name": "python3"
  },
  "language_info": {
   "codemirror_mode": {
    "name": "ipython",
    "version": 2
   },
   "file_extension": ".py",
   "mimetype": "text/x-python",
   "name": "python",
   "nbconvert_exporter": "python",
   "pygments_lexer": "ipython2",
   "version": "2.7.6"
  }
 },
 "nbformat": 4,
 "nbformat_minor": 5
}
