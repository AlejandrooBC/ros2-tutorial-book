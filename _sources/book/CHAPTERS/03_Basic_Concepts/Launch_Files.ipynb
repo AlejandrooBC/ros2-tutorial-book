{
 "cells": [
  {
   "cell_type": "markdown",
   "metadata": {},
   "source": [
    "# Launch Files"
   ]
  },
  {
   "cell_type": "markdown",
   "metadata": {},
   "source": [
    "Launch files are exactly what they seem to be, files that are used for the intiiation of a ROS2 program. They are a way for the user to describe the configuration of their system and run it in the way that it was described in the file. Some information that launch files include are:\n",
    "\n",
    "- What programs to run.\n",
    "\n",
    "- Where to run said programs.\n",
    "\n",
    "- What arguments to pass into said programs (to initialize parameters).\n",
    "\n",
    "- ROS-specific conventions that make it a deal easier to reuse system components with different configurations.\n",
    "\n",
    "Launch files also have the responsibility to monitor any process or program that has been launched. They report and, subsequently, react to any sudden changes that may arise during launch. They also have the ability to stop and trigger certain nodes at certain times. Launch files are usually written in Python, XML, or YAML, and you will become familiar with these programs later on."
   ]
  }
 ],
 "metadata": {
  "language_info": {
   "name": "python"
  }
 },
 "nbformat": 4,
 "nbformat_minor": 2
}
